{
 "cells": [
  {
   "cell_type": "code",
   "execution_count": 1,
   "metadata": {},
   "outputs": [],
   "source": [
    "import pandas as pd\n",
    "from pathlib import Path\n",
    "import email\n",
    "import numpy as np\n",
    "import string\n",
    "import re"
   ]
  },
  {
   "cell_type": "markdown",
   "metadata": {},
   "source": [
    "!wget https://bailando.berkeley.edu/enron/enron_with_categories.tar.gz"
   ]
  },
  {
   "cell_type": "markdown",
   "metadata": {},
   "source": [
    "# Data Prepration"
   ]
  },
  {
   "cell_type": "code",
   "execution_count": 2,
   "metadata": {},
   "outputs": [],
   "source": [
    "data_location = './enron_with_categories'"
   ]
  },
  {
   "cell_type": "code",
   "execution_count": 3,
   "metadata": {},
   "outputs": [],
   "source": [
    "# Read txt and cats file and map them based on file id.\n",
    "#extract relavent classification tag for email content\n",
    "data_folder = Path(data_location)\n",
    "files = data_folder.glob('./*/*.txt')\n",
    "data = [(i.name.split('.')[0], i.read_text()) for i in files]\n",
    "data_frame = pd.DataFrame(data, columns = ['file_id','content'])\n",
    "category_tags_files = data_folder.glob('./*/*.cats')\n",
    "data_cat = [(i.name.split('.')[0], i.read_text().split('\\n')[0]) for i in category_tags_files]\n",
    "tag_dataframe = pd.DataFrame(data_cat, columns =['file_id','category_tag'])\n",
    "email_dataframe = data_frame.set_index('file_id').join(tag_dataframe.set_index('file_id'))\n",
    "email_dataframe['category_tag'] = email_dataframe['category_tag'].astype('str')\n",
    "email_dataframe['category_tag'] = email_dataframe['category_tag'].apply(lambda x: int(x.split(',')[1].strip()) if x.split(',')[0].strip() == '1' else np.NaN)\n",
    "email_dataframe['category_tag'] = email_dataframe['category_tag'].astype('int')\n",
    "email_dataframe.reset_index(inplace=True)"
   ]
  },
  {
   "cell_type": "code",
   "execution_count": 4,
   "metadata": {},
   "outputs": [],
   "source": [
    "def get_content_from_email(email_content):\n",
    "    '''get the content from email objects'''\n",
    "    parts = []\n",
    "    for sub_part in email_content.walk():\n",
    "        if sub_part.get_content_type() == 'text/plain':\n",
    "            payload = sub_part.get_payload()\n",
    "            payload = ' '.join(payload.split())\n",
    "            parts.append( payload )\n",
    "        subject = email_content.get('Subject')\n",
    "        \n",
    "    return ''.join(parts), subject"
   ]
  },
  {
   "cell_type": "code",
   "execution_count": 5,
   "metadata": {},
   "outputs": [],
   "source": [
    "#extract email text using helper function and dedupe\n",
    "# remove last two categories for empty message\n",
    "messages = list(map(email.message_from_string, email_dataframe['content']))\n",
    "email_dataframe[['email_text','subject']] = list(map(get_content_from_email, messages))\n",
    "email_dataframe['text'] = email_dataframe['subject'] + \". \" + email_dataframe['email_text']\n",
    "email_dataframe['text'] = email_dataframe['text'].apply(lambda x: x.lstrip(' .'))\n",
    "email_dataframe.drop(columns=['email_text'], inplace=True)\n",
    "email_dataframe.rename(columns={'text': 'email_text'}, inplace=True)\n",
    "email_dataframe.drop(index = email_dataframe.query(\"category_tag == 7 or category_tag == 8\").index, inplace=True)"
   ]
  },
  {
   "cell_type": "code",
   "execution_count": 6,
   "metadata": {},
   "outputs": [],
   "source": [
    "def remove_forward_mail_text(text_or):\n",
    "#     text = text.split('Forwarded by')[0].strip()\n",
    "    text = re.split(f'[.]+[^.]+[{string.punctuation}]+\\s*Forwarded\\s+by', text_or)\n",
    "#     if len(text) > 1:\n",
    "#         print(f'Original text \\n {text_or} \\n split text \\n {text[0]}\\n')\n",
    "    return text[0]"
   ]
  },
  {
   "cell_type": "code",
   "execution_count": 7,
   "metadata": {},
   "outputs": [],
   "source": [
    "import string\n",
    "def remove_extra_space(text):\n",
    "    # lowercasing all the words\n",
    "    text = text.lower()\n",
    "    \n",
    "    # remove extra new lines\n",
    "    text = re.sub(r'\\n+', ' ', text)\n",
    "      \n",
    "    # remove extra white spaces\n",
    "    text = re.sub(r'\\s+', ' ', text)\n",
    "    \n",
    "    return text"
   ]
  },
  {
   "cell_type": "code",
   "execution_count": 8,
   "metadata": {},
   "outputs": [
    {
     "name": "stderr",
     "output_type": "stream",
     "text": [
      "[nltk_data] Downloading package stopwords to\n",
      "[nltk_data]     C:\\Users\\navne\\AppData\\Roaming\\nltk_data...\n",
      "[nltk_data]   Package stopwords is already up-to-date!\n"
     ]
    }
   ],
   "source": [
    "#remove forwarded message text\n",
    "#remove extra spae\n",
    "# re move stop word\n",
    "import nltk\n",
    "nltk.download('stopwords')\n",
    "from nltk.corpus import stopwords\n",
    "stop = stopwords.words('english')\n",
    "email_dataframe['email_text'] = email_dataframe['email_text'].apply(lambda x : remove_forward_mail_text(x))\n",
    "email_dataframe['email_text'] = email_dataframe['email_text'].apply(lambda x : remove_extra_space(x))\n",
    "email_dataframe['email_text'] = email_dataframe['email_text'].apply(lambda x: ' '.join([word for word in x.split() if word not in stop]))"
   ]
  },
  {
   "cell_type": "code",
   "execution_count": 9,
   "metadata": {},
   "outputs": [],
   "source": [
    "category_name_to_tag = {\n",
    "    \"Company Business, Strategy, etc.\": 1,\n",
    "    \"Purely Personal\": 2,\n",
    "    \"Personal but in professional context\": 3,\n",
    "    \"Logistic Arrangements\": 4,\n",
    "    \"Employment arrangements\": 5,\n",
    "    \"Document editing/checking\": 6  \n",
    "}\n",
    "category_tag_to_name = {v:k for k,v in category_name_to_tag.items()}"
   ]
  },
  {
   "cell_type": "code",
   "execution_count": 10,
   "metadata": {},
   "outputs": [
    {
     "data": {
      "text/html": [
       "<div>\n",
       "<style scoped>\n",
       "    .dataframe tbody tr th:only-of-type {\n",
       "        vertical-align: middle;\n",
       "    }\n",
       "\n",
       "    .dataframe tbody tr th {\n",
       "        vertical-align: top;\n",
       "    }\n",
       "\n",
       "    .dataframe thead th {\n",
       "        text-align: right;\n",
       "    }\n",
       "</style>\n",
       "<table border=\"1\" class=\"dataframe\">\n",
       "  <thead>\n",
       "    <tr style=\"text-align: right;\">\n",
       "      <th></th>\n",
       "      <th>file_id</th>\n",
       "      <th>content</th>\n",
       "      <th>email_text</th>\n",
       "      <th>category_tag</th>\n",
       "      <th>category_name</th>\n",
       "    </tr>\n",
       "  </thead>\n",
       "  <tbody>\n",
       "    <tr>\n",
       "      <th>0</th>\n",
       "      <td>10425</td>\n",
       "      <td>Message-ID: &lt;197504.1075840201539.JavaMail.eva...</td>\n",
       "      <td>translation articles</td>\n",
       "      <td>0</td>\n",
       "      <td>Company Business, Strategy, etc.</td>\n",
       "    </tr>\n",
       "    <tr>\n",
       "      <th>1</th>\n",
       "      <td>106296</td>\n",
       "      <td>Message-ID: &lt;11991339.1075842536086.JavaMail.e...</td>\n",
       "      <td>tw gas sales: privileged confidential attorney...</td>\n",
       "      <td>0</td>\n",
       "      <td>Company Business, Strategy, etc.</td>\n",
       "    </tr>\n",
       "    <tr>\n",
       "      <th>2</th>\n",
       "      <td>106298</td>\n",
       "      <td>Message-ID: &lt;7106753.1075842536132.JavaMail.ev...</td>\n",
       "      <td>tw gas sales: privileged confidential attorney...</td>\n",
       "      <td>0</td>\n",
       "      <td>Company Business, Strategy, etc.</td>\n",
       "    </tr>\n",
       "    <tr>\n",
       "      <th>3</th>\n",
       "      <td>106588</td>\n",
       "      <td>Message-ID: &lt;21267718.1075863331587.JavaMail.e...</td>\n",
       "      <td>tw gas sales: privileged confidential attorney...</td>\n",
       "      <td>0</td>\n",
       "      <td>Company Business, Strategy, etc.</td>\n",
       "    </tr>\n",
       "    <tr>\n",
       "      <th>4</th>\n",
       "      <td>106590</td>\n",
       "      <td>Message-ID: &lt;20866019.1075863331634.JavaMail.e...</td>\n",
       "      <td>tw gas sales: privileged confidential attorney...</td>\n",
       "      <td>0</td>\n",
       "      <td>Company Business, Strategy, etc.</td>\n",
       "    </tr>\n",
       "    <tr>\n",
       "      <th>5</th>\n",
       "      <td>109359</td>\n",
       "      <td>Message-ID: &lt;3018764.1075842766409.JavaMail.ev...</td>\n",
       "      <td>confidential information securities trading. t...</td>\n",
       "      <td>0</td>\n",
       "      <td>Company Business, Strategy, etc.</td>\n",
       "    </tr>\n",
       "    <tr>\n",
       "      <th>6</th>\n",
       "      <td>110549</td>\n",
       "      <td>Message-ID: &lt;28455164.1075842822881.JavaMail.e...</td>\n",
       "      <td>confidential information securities trading. t...</td>\n",
       "      <td>0</td>\n",
       "      <td>Company Business, Strategy, etc.</td>\n",
       "    </tr>\n",
       "    <tr>\n",
       "      <th>7</th>\n",
       "      <td>113953</td>\n",
       "      <td>Message-ID: &lt;10233132.1075842932164.JavaMail.e...</td>\n",
       "      <td>madera ranch press release. heads up. discusse...</td>\n",
       "      <td>0</td>\n",
       "      <td>Company Business, Strategy, etc.</td>\n",
       "    </tr>\n",
       "    <tr>\n",
       "      <th>8</th>\n",
       "      <td>114087</td>\n",
       "      <td>Message-ID: &lt;15319805.1075842936579.JavaMail.e...</td>\n",
       "      <td>fyi</td>\n",
       "      <td>0</td>\n",
       "      <td>Company Business, Strategy, etc.</td>\n",
       "    </tr>\n",
       "    <tr>\n",
       "      <th>9</th>\n",
       "      <td>114503</td>\n",
       "      <td>Message-ID: &lt;6248817.1075842949151.JavaMail.ev...</td>\n",
       "      <td>re: reply. michael, looks like sponsorship. je...</td>\n",
       "      <td>0</td>\n",
       "      <td>Company Business, Strategy, etc.</td>\n",
       "    </tr>\n",
       "  </tbody>\n",
       "</table>\n",
       "</div>"
      ],
      "text/plain": [
       "  file_id                                            content  \\\n",
       "0   10425  Message-ID: <197504.1075840201539.JavaMail.eva...   \n",
       "1  106296  Message-ID: <11991339.1075842536086.JavaMail.e...   \n",
       "2  106298  Message-ID: <7106753.1075842536132.JavaMail.ev...   \n",
       "3  106588  Message-ID: <21267718.1075863331587.JavaMail.e...   \n",
       "4  106590  Message-ID: <20866019.1075863331634.JavaMail.e...   \n",
       "5  109359  Message-ID: <3018764.1075842766409.JavaMail.ev...   \n",
       "6  110549  Message-ID: <28455164.1075842822881.JavaMail.e...   \n",
       "7  113953  Message-ID: <10233132.1075842932164.JavaMail.e...   \n",
       "8  114087  Message-ID: <15319805.1075842936579.JavaMail.e...   \n",
       "9  114503  Message-ID: <6248817.1075842949151.JavaMail.ev...   \n",
       "\n",
       "                                          email_text  category_tag  \\\n",
       "0                               translation articles             0   \n",
       "1  tw gas sales: privileged confidential attorney...             0   \n",
       "2  tw gas sales: privileged confidential attorney...             0   \n",
       "3  tw gas sales: privileged confidential attorney...             0   \n",
       "4  tw gas sales: privileged confidential attorney...             0   \n",
       "5  confidential information securities trading. t...             0   \n",
       "6  confidential information securities trading. t...             0   \n",
       "7  madera ranch press release. heads up. discusse...             0   \n",
       "8                                                fyi             0   \n",
       "9  re: reply. michael, looks like sponsorship. je...             0   \n",
       "\n",
       "                      category_name  \n",
       "0  Company Business, Strategy, etc.  \n",
       "1  Company Business, Strategy, etc.  \n",
       "2  Company Business, Strategy, etc.  \n",
       "3  Company Business, Strategy, etc.  \n",
       "4  Company Business, Strategy, etc.  \n",
       "5  Company Business, Strategy, etc.  \n",
       "6  Company Business, Strategy, etc.  \n",
       "7  Company Business, Strategy, etc.  \n",
       "8  Company Business, Strategy, etc.  \n",
       "9  Company Business, Strategy, etc.  "
      ]
     },
     "execution_count": 10,
     "metadata": {},
     "output_type": "execute_result"
    }
   ],
   "source": [
    "#map category_tags to corresponding category name\n",
    "email_dataframe['category_name'] = email_dataframe['category_tag'].apply(lambda x: category_tag_to_name[x])\n",
    "email_dataframe['category_tag'] = email_dataframe['category_tag'] -1\n",
    "email_dataframe = email_dataframe[['file_id','content','email_text','category_tag','category_name']]\n",
    "email_dataframe.head(10)"
   ]
  },
  {
   "cell_type": "code",
   "execution_count": 11,
   "metadata": {},
   "outputs": [],
   "source": [
    "import string\n",
    "import re\n",
    "import nltk\n",
    "# print(string.punctuation)\n",
    "def text_cleaner(word):\n",
    "    snow = nltk.stem.SnowballStemmer('english')\n",
    "    if re.match('^(?:(?:[0-9]{2}[:\\/,]){2}[0-9]{2,4})$', word.strip()) : return 'X'*2\n",
    "    elif re.match('^[0-9]{2}:[0-9]{2}$', word.strip()) : return 'X'*3\n",
    "    elif re.match('.*[0-9]+.*', word.strip()) : return 'X'*4\n",
    "    elif re.match('.*[a-z]/[a-z].*', word.strip()) : return 'X'*5\n",
    "    elif re.match('.+@.+', word.strip()) : return 'X'*6\n",
    "#     else: return snow.stem(word)\n",
    "    else: return(re.sub(\"[\"+string.punctuation+\"]\", \" \", word))\n",
    "#     return(re.sub(\"[\"+string.punctuation+\"]\", \" \", word))"
   ]
  },
  {
   "cell_type": "code",
   "execution_count": 12,
   "metadata": {},
   "outputs": [],
   "source": [
    "import re\n",
    "out_text = []\n",
    "for text in email_dataframe.email_text.values:\n",
    "    source_list = text.split()\n",
    "    source_list = [i.strip() for i in source_list]\n",
    "#     print(\"Source\")\n",
    "#     print(source_list)\n",
    "    out_list = list(map(text_cleaner, source_list))\n",
    "    out_text.append(' '.join(out_list))\n",
    "email_dataframe['email_text'] = out_text\n",
    "email_dataframe['email_text'] = email_dataframe['email_text'].apply(lambda x : remove_extra_space(x))"
   ]
  },
  {
   "cell_type": "code",
   "execution_count": 13,
   "metadata": {},
   "outputs": [
    {
     "data": {
      "text/html": [
       "<div>\n",
       "<style scoped>\n",
       "    .dataframe tbody tr th:only-of-type {\n",
       "        vertical-align: middle;\n",
       "    }\n",
       "\n",
       "    .dataframe tbody tr th {\n",
       "        vertical-align: top;\n",
       "    }\n",
       "\n",
       "    .dataframe thead th {\n",
       "        text-align: right;\n",
       "    }\n",
       "</style>\n",
       "<table border=\"1\" class=\"dataframe\">\n",
       "  <thead>\n",
       "    <tr style=\"text-align: right;\">\n",
       "      <th></th>\n",
       "      <th>file_id</th>\n",
       "      <th>content</th>\n",
       "      <th>email_text</th>\n",
       "      <th>category_tag</th>\n",
       "      <th>category_name</th>\n",
       "    </tr>\n",
       "  </thead>\n",
       "  <tbody>\n",
       "    <tr>\n",
       "      <th>0</th>\n",
       "      <td>10425</td>\n",
       "      <td>Message-ID: &lt;197504.1075840201539.JavaMail.eva...</td>\n",
       "      <td>translation articles</td>\n",
       "      <td>0</td>\n",
       "      <td>Company Business, Strategy, etc.</td>\n",
       "    </tr>\n",
       "    <tr>\n",
       "      <th>1</th>\n",
       "      <td>106296</td>\n",
       "      <td>Message-ID: &lt;11991339.1075842536086.JavaMail.e...</td>\n",
       "      <td>tw gas sales privileged confidential attorney ...</td>\n",
       "      <td>0</td>\n",
       "      <td>Company Business, Strategy, etc.</td>\n",
       "    </tr>\n",
       "    <tr>\n",
       "      <th>2</th>\n",
       "      <td>106298</td>\n",
       "      <td>Message-ID: &lt;7106753.1075842536132.JavaMail.ev...</td>\n",
       "      <td>tw gas sales privileged confidential attorney ...</td>\n",
       "      <td>0</td>\n",
       "      <td>Company Business, Strategy, etc.</td>\n",
       "    </tr>\n",
       "    <tr>\n",
       "      <th>3</th>\n",
       "      <td>109359</td>\n",
       "      <td>Message-ID: &lt;3018764.1075842766409.JavaMail.ev...</td>\n",
       "      <td>confidential information securities trading to...</td>\n",
       "      <td>0</td>\n",
       "      <td>Company Business, Strategy, etc.</td>\n",
       "    </tr>\n",
       "    <tr>\n",
       "      <th>4</th>\n",
       "      <td>113953</td>\n",
       "      <td>Message-ID: &lt;10233132.1075842932164.JavaMail.e...</td>\n",
       "      <td>madera ranch press release heads up discussed ...</td>\n",
       "      <td>0</td>\n",
       "      <td>Company Business, Strategy, etc.</td>\n",
       "    </tr>\n",
       "    <tr>\n",
       "      <th>5</th>\n",
       "      <td>114087</td>\n",
       "      <td>Message-ID: &lt;15319805.1075842936579.JavaMail.e...</td>\n",
       "      <td>fyi</td>\n",
       "      <td>0</td>\n",
       "      <td>Company Business, Strategy, etc.</td>\n",
       "    </tr>\n",
       "    <tr>\n",
       "      <th>6</th>\n",
       "      <td>114503</td>\n",
       "      <td>Message-ID: &lt;6248817.1075842949151.JavaMail.ev...</td>\n",
       "      <td>re reply michael looks like sponsorship jeff d...</td>\n",
       "      <td>0</td>\n",
       "      <td>Company Business, Strategy, etc.</td>\n",
       "    </tr>\n",
       "    <tr>\n",
       "      <th>7</th>\n",
       "      <td>114715</td>\n",
       "      <td>Message-ID: &lt;26804150.1075842955435.JavaMail.e...</td>\n",
       "      <td>re fw possible co sponsorships though somewhat...</td>\n",
       "      <td>0</td>\n",
       "      <td>Company Business, Strategy, etc.</td>\n",
       "    </tr>\n",
       "    <tr>\n",
       "      <th>8</th>\n",
       "      <td>114844</td>\n",
       "      <td>Message-ID: &lt;22094025.1075842958662.JavaMail.e...</td>\n",
       "      <td>described problems solutions california focuss...</td>\n",
       "      <td>0</td>\n",
       "      <td>Company Business, Strategy, etc.</td>\n",
       "    </tr>\n",
       "    <tr>\n",
       "      <th>9</th>\n",
       "      <td>114845</td>\n",
       "      <td>Message-ID: &lt;20949592.1075842958684.JavaMail.e...</td>\n",
       "      <td>skilling speaking national press club next wee...</td>\n",
       "      <td>0</td>\n",
       "      <td>Company Business, Strategy, etc.</td>\n",
       "    </tr>\n",
       "  </tbody>\n",
       "</table>\n",
       "</div>"
      ],
      "text/plain": [
       "  file_id                                            content  \\\n",
       "0   10425  Message-ID: <197504.1075840201539.JavaMail.eva...   \n",
       "1  106296  Message-ID: <11991339.1075842536086.JavaMail.e...   \n",
       "2  106298  Message-ID: <7106753.1075842536132.JavaMail.ev...   \n",
       "3  109359  Message-ID: <3018764.1075842766409.JavaMail.ev...   \n",
       "4  113953  Message-ID: <10233132.1075842932164.JavaMail.e...   \n",
       "5  114087  Message-ID: <15319805.1075842936579.JavaMail.e...   \n",
       "6  114503  Message-ID: <6248817.1075842949151.JavaMail.ev...   \n",
       "7  114715  Message-ID: <26804150.1075842955435.JavaMail.e...   \n",
       "8  114844  Message-ID: <22094025.1075842958662.JavaMail.e...   \n",
       "9  114845  Message-ID: <20949592.1075842958684.JavaMail.e...   \n",
       "\n",
       "                                          email_text  category_tag  \\\n",
       "0                               translation articles             0   \n",
       "1  tw gas sales privileged confidential attorney ...             0   \n",
       "2  tw gas sales privileged confidential attorney ...             0   \n",
       "3  confidential information securities trading to...             0   \n",
       "4  madera ranch press release heads up discussed ...             0   \n",
       "5                                                fyi             0   \n",
       "6  re reply michael looks like sponsorship jeff d...             0   \n",
       "7  re fw possible co sponsorships though somewhat...             0   \n",
       "8  described problems solutions california focuss...             0   \n",
       "9  skilling speaking national press club next wee...             0   \n",
       "\n",
       "                      category_name  \n",
       "0  Company Business, Strategy, etc.  \n",
       "1  Company Business, Strategy, etc.  \n",
       "2  Company Business, Strategy, etc.  \n",
       "3  Company Business, Strategy, etc.  \n",
       "4  Company Business, Strategy, etc.  \n",
       "5  Company Business, Strategy, etc.  \n",
       "6  Company Business, Strategy, etc.  \n",
       "7  Company Business, Strategy, etc.  \n",
       "8  Company Business, Strategy, etc.  \n",
       "9  Company Business, Strategy, etc.  "
      ]
     },
     "execution_count": 13,
     "metadata": {},
     "output_type": "execute_result"
    }
   ],
   "source": [
    "email_dataframe.drop(index = email_dataframe.query(\"email_text == ''\").index, inplace= True)\n",
    "email_dataframe.drop_duplicates(subset='email_text',inplace=True)\n",
    "email_dataframe.reset_index(drop=True, inplace=True)\n",
    "email_dataframe.head(10)"
   ]
  },
  {
   "cell_type": "code",
   "execution_count": 14,
   "metadata": {},
   "outputs": [
    {
     "data": {
      "text/plain": [
       "file_id          0\n",
       "content          0\n",
       "email_text       0\n",
       "category_tag     0\n",
       "category_name    0\n",
       "dtype: int64"
      ]
     },
     "execution_count": 14,
     "metadata": {},
     "output_type": "execute_result"
    }
   ],
   "source": [
    "#check for null value and empty string\n",
    "assert email_dataframe.isna().sum().sum() == 0\n",
    "email_dataframe.applymap(lambda x: x == '').sum()"
   ]
  },
  {
   "cell_type": "code",
   "execution_count": 15,
   "metadata": {},
   "outputs": [
    {
     "data": {
      "text/plain": [
       "'tw gas sales privileged confidential attorney client privilege anticipation potential litigation involving tw s operational activities please prepare analysis reasons tw s sale excess natural gas california border aware several sales informed excess pressure border basic reason them i d like specific explanation includes following information xxxx specific pressures volume considerations could make operationally necessary sell gas california border xxxx process followed make determination xxxx individuals groups involved determining whether operational sale necessary xxxx way system operations changed since last year changes contribute increased frequency sales compared previous years xxxx alternatives operational sales considered decision make sale reached thanks attention request please give call discuss please designate response privileged confidential attorney client privileged '"
      ]
     },
     "execution_count": 15,
     "metadata": {},
     "output_type": "execute_result"
    }
   ],
   "source": [
    "email_dataframe.iloc[1]['email_text']"
   ]
  },
  {
   "cell_type": "markdown",
   "metadata": {},
   "source": [
    "email_dataframe.to_csv('final_data_forward_removed_stop_word.csv', index= False)"
   ]
  },
  {
   "cell_type": "markdown",
   "metadata": {},
   "source": [
    "# Data Visualization"
   ]
  },
  {
   "cell_type": "code",
   "execution_count": 16,
   "metadata": {},
   "outputs": [
    {
     "data": {
      "text/plain": [
       "Text(0.5, 0, 'Email Count')"
      ]
     },
     "execution_count": 16,
     "metadata": {},
     "output_type": "execute_result"
    },
    {
     "data": {
      "image/png": "[encoded data removed]",
      "text/plain": [
       "<Figure size 576x432 with 1 Axes>"
      ]
     },
     "metadata": {
      "needs_background": "light"
     },
     "output_type": "display_data"
    }
   ],
   "source": [
    "#plot count horizontal map\n",
    "import matplotlib.pyplot as plt\n",
    "fig = plt.figure(figsize=(8,6))\n",
    "colors = ['black','black','black','darkblue','darkblue','darkblue']\n",
    "email_dataframe.groupby('category_name').email_text.count().sort_values().plot.barh(\n",
    "    ylim=0, color=colors, title= 'NUMBER OF EMAIL IN EACH CATEGORY')\n",
    "plt.xlabel('Email Count', fontsize = 10)"
   ]
  },
  {
   "cell_type": "code",
   "execution_count": 17,
   "metadata": {},
   "outputs": [
    {
     "data": {
      "text/plain": [
       "category_name\n",
       "Purely Personal                         0.029005\n",
       "Employment arrangements                 0.040870\n",
       "Document editing/checking               0.077785\n",
       "Personal but in professional context    0.084377\n",
       "Logistic Arrangements                   0.258405\n",
       "Company Business, Strategy, etc.        0.509558\n",
       "Name: email_text, dtype: float64"
      ]
     },
     "execution_count": 17,
     "metadata": {},
     "output_type": "execute_result"
    }
   ],
   "source": [
    "email_dataframe.groupby('category_name').email_text.count().sort_values()/email_dataframe.groupby('category_name').email_text.count().sum()"
   ]
  },
  {
   "cell_type": "markdown",
   "metadata": {},
   "source": [
    "# TEXT PROCESSING"
   ]
  },
  {
   "cell_type": "code",
   "execution_count": 18,
   "metadata": {},
   "outputs": [],
   "source": [
    "from sklearn.feature_extraction.text import TfidfTransformer\n",
    "from sklearn.feature_extraction.text import TfidfVectorizer\n",
    "from sklearn import model_selection"
   ]
  },
  {
   "cell_type": "code",
   "execution_count": 19,
   "metadata": {},
   "outputs": [
    {
     "name": "stdout",
     "output_type": "stream",
     "text": [
      "(1517, 14057)\n"
     ]
    },
    {
     "data": {
      "text/plain": [
       "{0, 1, 2, 3, 4, 5}"
      ]
     },
     "execution_count": 19,
     "metadata": {},
     "output_type": "execute_result"
    }
   ],
   "source": [
    "# Transform email_text to vector\n",
    "tfidf = TfidfVectorizer(sublinear_tf=True, min_df=5,\n",
    "                        ngram_range=(1, 2))\n",
    "features = tfidf.fit_transform(email_dataframe.email_text)\n",
    "print(features.shape)\n",
    "labels = email_dataframe.category_tag\n",
    "set(labels)"
   ]
  },
  {
   "cell_type": "code",
   "execution_count": 20,
   "metadata": {},
   "outputs": [],
   "source": [
    "from sklearn.feature_selection import SelectKBest, chi2\n",
    "sb_ch2 = SelectKBest(chi2, k=6000)\n",
    "features = sb_ch2.fit_transform(features, labels)"
   ]
  },
  {
   "cell_type": "code",
   "execution_count": 21,
   "metadata": {},
   "outputs": [
    {
     "name": "stderr",
     "output_type": "stream",
     "text": [
      "C:\\Users\\navne\\anaconda3\\lib\\site-packages\\sklearn\\utils\\deprecation.py:87: FutureWarning: Function get_feature_names is deprecated; get_feature_names is deprecated in 1.0 and will be removed in 1.2. Please use get_feature_names_out instead.\n",
      "  warnings.warn(msg, category=FutureWarning)\n"
     ]
    }
   ],
   "source": [
    "feature_name = np.array(tfidf.get_feature_names())[sb_ch2.get_support(indices=True)]"
   ]
  },
  {
   "cell_type": "code",
   "execution_count": 22,
   "metadata": {},
   "outputs": [
    {
     "name": "stdout",
     "output_type": "stream",
     "text": [
      "Email category : Company Business, Strategy, etc.,1\n",
      "Most Correlated Unigrams are: said, price, market, power, prices, vince, resume, california, ferc, meeting\n",
      "Most Correlated Bigrams are: xxxx million, vince original, segner staff, expense document, concur expense, xxxx dining, dining room, ed segner, staff meeting, meeting xxxx\n",
      "\n",
      "\n",
      "\n",
      "Email category : Document editing/checking,6\n",
      "Most Correlated Unigrams are: appeal, letter, release, aa, paragraph, memo, comments, changes, looks, draft\n",
      "Most Correlated Bigrams are: mark xxxxx, paula xxxxx, focus groups, confidential agreement, presentation looks, xxxx revised, draft letter, attached draft, looks fine, looks good\n",
      "\n",
      "\n",
      "\n",
      "Email category : Employment arrangements,5\n",
      "Most Correlated Unigrams are: compensation, handled, barry, lift, candidate, description, promotion, multi, job, resume\n",
      "Most Correlated Bigrams are: xxxx interview, would pleased, what next, prc process, interview enron, natural resources, washington office, year end, telephone interview, re job\n",
      "\n",
      "\n",
      "\n",
      "Email category : Logistic Arrangements,4\n",
      "Most Correlated Unigrams are: conf, cancelled, eb, lou, conference, room, concur, dining, segner, meeting\n",
      "Most Correlated Bigrams are: eb xxxx, xxxx rick, segner staff, dining room, xxxx dining, ed segner, concur expense, expense document, staff meeting, meeting xxxx\n",
      "\n",
      "\n",
      "\n",
      "Email category : Personal but in professional context,3\n",
      "Most Correlated Unigrams are: magee, mathematics, ehud, http, congratulations, dat, molly, kaminski, spec, vince\n",
      "Most Correlated Bigrams are: june xxxx, sent tuesday, vince original, cell xxxx, xxxx london, vince subject, vince xxxxxx, http www, financial mathematics, kaminski vince\n",
      "\n",
      "\n",
      "\n",
      "Email category : Purely Personal,2\n",
      "Most Correlated Unigrams are: bardzo, dobry, dzien, sobczyk, czy, na, jest, love, urszula, lipca\n",
      "Most Correlated Bigrams are: bardzo prosze, lipca iah, dzien dobry, powrot xxxx, ticket dzien, urszula sobczyk, sobczyk xxxxxx, from urszula, re ticket, xxxx lipca\n",
      "\n",
      "\n",
      "\n"
     ]
    }
   ],
   "source": [
    "# Finding the three most correlated terms with each of the product categories\n",
    "from sklearn.feature_selection import chi2\n",
    "N = 10\n",
    "indices_list = np.array([], dtype=int)\n",
    "for email_category, category_tag in sorted(category_name_to_tag.items()):\n",
    "    features_chi2 = chi2(features, labels == category_tag-1)\n",
    "    indices = np.argsort(features_chi2[0])\n",
    "    indices_list = np.append(indices_list, indices[-N:])\n",
    "    feature_names = feature_name[indices]\n",
    "    unigrams = [v for v in feature_names if len(v.split(' ')) == 1]\n",
    "    bigrams = [v for v in feature_names if len(v.split(' ')) == 2]\n",
    "    print(f\"Email category : {email_category},{category_tag}\")\n",
    "    print(f\"Most Correlated Unigrams are: {', '.join(unigrams[-N:])}\")\n",
    "    print(f\"Most Correlated Bigrams are: {', '.join(bigrams[-N:])}\")\n",
    "    print(f\"\\n\\n\")\n",
    "features = features.toarray()"
   ]
  },
  {
   "cell_type": "markdown",
   "metadata": {},
   "source": [
    "# Evaluating Multiple-models"
   ]
  },
  {
   "cell_type": "code",
   "execution_count": 23,
   "metadata": {},
   "outputs": [],
   "source": [
    "from sklearn.naive_bayes import MultinomialNB, GaussianNB\n",
    "from sklearn.linear_model import LogisticRegression\n",
    "from sklearn.ensemble import RandomForestClassifier\n",
    "from sklearn.ensemble import AdaBoostClassifier\n",
    "from sklearn.svm import LinearSVC\n",
    "from sklearn.model_selection import cross_val_score\n",
    "from sklearn.metrics import confusion_matrix\n",
    "from sklearn import metrics\n",
    "from sklearn.tree import DecisionTreeClassifier\n",
    "from sklearn.neural_network import MLPClassifier"
   ]
  },
  {
   "cell_type": "code",
   "execution_count": 24,
   "metadata": {},
   "outputs": [],
   "source": [
    "models = [\n",
    "    GaussianNB(), MultinomialNB(),\n",
    "    RandomForestClassifier(n_estimators=100, random_state=0),\n",
    "    LinearSVC(),\n",
    "    LogisticRegression(random_state=0),\n",
    "    DecisionTreeClassifier(random_state=0),\n",
    "#     AdaBoostClassifier(base_estimator=DecisionTreeClassifier(), n_estimators=5, random_state= 0),\n",
    "#     MLPClassifier(hidden_layer_sizes=(10,)),\n",
    "]"
   ]
  },
  {
   "cell_type": "code",
   "execution_count": 25,
   "metadata": {},
   "outputs": [],
   "source": [
    "# 5 Cross-validation\n",
    "CV = 5\n",
    "cv_df = pd.DataFrame(index=range(CV * len(models)))"
   ]
  },
  {
   "cell_type": "code",
   "execution_count": 26,
   "metadata": {},
   "outputs": [
    {
     "name": "stdout",
     "output_type": "stream",
     "text": [
      "Done\n",
      "Done\n",
      "Done\n",
      "Done\n",
      "Done\n",
      "Done\n"
     ]
    },
    {
     "data": {
      "text/html": [
       "<div>\n",
       "<style scoped>\n",
       "    .dataframe tbody tr th:only-of-type {\n",
       "        vertical-align: middle;\n",
       "    }\n",
       "\n",
       "    .dataframe tbody tr th {\n",
       "        vertical-align: top;\n",
       "    }\n",
       "\n",
       "    .dataframe thead th {\n",
       "        text-align: right;\n",
       "    }\n",
       "</style>\n",
       "<table border=\"1\" class=\"dataframe\">\n",
       "  <thead>\n",
       "    <tr style=\"text-align: right;\">\n",
       "      <th></th>\n",
       "      <th>Mean Balanced Accuracy</th>\n",
       "      <th>Standard deviation</th>\n",
       "    </tr>\n",
       "    <tr>\n",
       "      <th>model_name</th>\n",
       "      <th></th>\n",
       "      <th></th>\n",
       "    </tr>\n",
       "  </thead>\n",
       "  <tbody>\n",
       "    <tr>\n",
       "      <th>DecisionTreeClassifier</th>\n",
       "      <td>0.324777</td>\n",
       "      <td>0.046545</td>\n",
       "    </tr>\n",
       "    <tr>\n",
       "      <th>GaussianNB</th>\n",
       "      <td>0.244234</td>\n",
       "      <td>0.061245</td>\n",
       "    </tr>\n",
       "    <tr>\n",
       "      <th>LinearSVC</th>\n",
       "      <td>0.361135</td>\n",
       "      <td>0.048673</td>\n",
       "    </tr>\n",
       "    <tr>\n",
       "      <th>LogisticRegression</th>\n",
       "      <td>0.273887</td>\n",
       "      <td>0.019548</td>\n",
       "    </tr>\n",
       "    <tr>\n",
       "      <th>MultinomialNB</th>\n",
       "      <td>0.224635</td>\n",
       "      <td>0.020978</td>\n",
       "    </tr>\n",
       "    <tr>\n",
       "      <th>RandomForestClassifier</th>\n",
       "      <td>0.288162</td>\n",
       "      <td>0.061513</td>\n",
       "    </tr>\n",
       "  </tbody>\n",
       "</table>\n",
       "</div>"
      ],
      "text/plain": [
       "                        Mean Balanced Accuracy  Standard deviation\n",
       "model_name                                                        \n",
       "DecisionTreeClassifier                0.324777            0.046545\n",
       "GaussianNB                            0.244234            0.061245\n",
       "LinearSVC                             0.361135            0.048673\n",
       "LogisticRegression                    0.273887            0.019548\n",
       "MultinomialNB                         0.224635            0.020978\n",
       "RandomForestClassifier                0.288162            0.061513"
      ]
     },
     "execution_count": 26,
     "metadata": {},
     "output_type": "execute_result"
    }
   ],
   "source": [
    "entries = []\n",
    "for model in models:\n",
    "    model_name = model.__class__.__name__\n",
    "    accuracies = cross_val_score(model, features, labels, scoring='balanced_accuracy', cv=CV)\n",
    "    for fold_idx, accuracy in enumerate(accuracies):\n",
    "        entries.append((model_name, fold_idx, accuracy))\n",
    "    print('Done')\n",
    "cv_df_balanced = pd.DataFrame(entries, columns=['model_name', 'fold_idx', 'balanced_accuracy'])\n",
    "mean_accuracy = cv_df_balanced.groupby('model_name').balanced_accuracy.mean()\n",
    "std_accuracy = cv_df_balanced.groupby('model_name').balanced_accuracy.std()\n",
    "\n",
    "acc = pd.concat([mean_accuracy, std_accuracy], axis= 1, \n",
    "          ignore_index=True)\n",
    "acc.columns = ['Mean Balanced Accuracy', 'Standard deviation']\n",
    "acc"
   ]
  },
  {
   "cell_type": "code",
   "execution_count": 27,
   "metadata": {},
   "outputs": [],
   "source": [
    "acc.to_clipboard()"
   ]
  },
  {
   "cell_type": "code",
   "execution_count": 28,
   "metadata": {},
   "outputs": [
    {
     "data": {
      "text/html": [
       "<div>\n",
       "<style scoped>\n",
       "    .dataframe tbody tr th:only-of-type {\n",
       "        vertical-align: middle;\n",
       "    }\n",
       "\n",
       "    .dataframe tbody tr th {\n",
       "        vertical-align: top;\n",
       "    }\n",
       "\n",
       "    .dataframe thead th {\n",
       "        text-align: right;\n",
       "    }\n",
       "</style>\n",
       "<table border=\"1\" class=\"dataframe\">\n",
       "  <thead>\n",
       "    <tr style=\"text-align: right;\">\n",
       "      <th></th>\n",
       "      <th>model_name</th>\n",
       "      <th>fold_idx</th>\n",
       "      <th>balanced_accuracy</th>\n",
       "    </tr>\n",
       "  </thead>\n",
       "  <tbody>\n",
       "    <tr>\n",
       "      <th>0</th>\n",
       "      <td>GaussianNB</td>\n",
       "      <td>0</td>\n",
       "      <td>0.237569</td>\n",
       "    </tr>\n",
       "    <tr>\n",
       "      <th>1</th>\n",
       "      <td>GaussianNB</td>\n",
       "      <td>1</td>\n",
       "      <td>0.314707</td>\n",
       "    </tr>\n",
       "    <tr>\n",
       "      <th>2</th>\n",
       "      <td>GaussianNB</td>\n",
       "      <td>2</td>\n",
       "      <td>0.185424</td>\n",
       "    </tr>\n",
       "    <tr>\n",
       "      <th>3</th>\n",
       "      <td>GaussianNB</td>\n",
       "      <td>3</td>\n",
       "      <td>0.184630</td>\n",
       "    </tr>\n",
       "    <tr>\n",
       "      <th>4</th>\n",
       "      <td>GaussianNB</td>\n",
       "      <td>4</td>\n",
       "      <td>0.298840</td>\n",
       "    </tr>\n",
       "    <tr>\n",
       "      <th>5</th>\n",
       "      <td>MultinomialNB</td>\n",
       "      <td>0</td>\n",
       "      <td>0.233061</td>\n",
       "    </tr>\n",
       "    <tr>\n",
       "      <th>6</th>\n",
       "      <td>MultinomialNB</td>\n",
       "      <td>1</td>\n",
       "      <td>0.244685</td>\n",
       "    </tr>\n",
       "    <tr>\n",
       "      <th>7</th>\n",
       "      <td>MultinomialNB</td>\n",
       "      <td>2</td>\n",
       "      <td>0.191205</td>\n",
       "    </tr>\n",
       "    <tr>\n",
       "      <th>8</th>\n",
       "      <td>MultinomialNB</td>\n",
       "      <td>3</td>\n",
       "      <td>0.218235</td>\n",
       "    </tr>\n",
       "    <tr>\n",
       "      <th>9</th>\n",
       "      <td>MultinomialNB</td>\n",
       "      <td>4</td>\n",
       "      <td>0.235986</td>\n",
       "    </tr>\n",
       "    <tr>\n",
       "      <th>10</th>\n",
       "      <td>RandomForestClassifier</td>\n",
       "      <td>0</td>\n",
       "      <td>0.270995</td>\n",
       "    </tr>\n",
       "    <tr>\n",
       "      <th>11</th>\n",
       "      <td>RandomForestClassifier</td>\n",
       "      <td>1</td>\n",
       "      <td>0.291574</td>\n",
       "    </tr>\n",
       "    <tr>\n",
       "      <th>12</th>\n",
       "      <td>RandomForestClassifier</td>\n",
       "      <td>2</td>\n",
       "      <td>0.250275</td>\n",
       "    </tr>\n",
       "    <tr>\n",
       "      <th>13</th>\n",
       "      <td>RandomForestClassifier</td>\n",
       "      <td>3</td>\n",
       "      <td>0.236328</td>\n",
       "    </tr>\n",
       "    <tr>\n",
       "      <th>14</th>\n",
       "      <td>RandomForestClassifier</td>\n",
       "      <td>4</td>\n",
       "      <td>0.391636</td>\n",
       "    </tr>\n",
       "    <tr>\n",
       "      <th>15</th>\n",
       "      <td>LinearSVC</td>\n",
       "      <td>0</td>\n",
       "      <td>0.303370</td>\n",
       "    </tr>\n",
       "    <tr>\n",
       "      <th>16</th>\n",
       "      <td>LinearSVC</td>\n",
       "      <td>1</td>\n",
       "      <td>0.390138</td>\n",
       "    </tr>\n",
       "    <tr>\n",
       "      <th>17</th>\n",
       "      <td>LinearSVC</td>\n",
       "      <td>2</td>\n",
       "      <td>0.397515</td>\n",
       "    </tr>\n",
       "    <tr>\n",
       "      <th>18</th>\n",
       "      <td>LinearSVC</td>\n",
       "      <td>3</td>\n",
       "      <td>0.312909</td>\n",
       "    </tr>\n",
       "    <tr>\n",
       "      <th>19</th>\n",
       "      <td>LinearSVC</td>\n",
       "      <td>4</td>\n",
       "      <td>0.401744</td>\n",
       "    </tr>\n",
       "    <tr>\n",
       "      <th>20</th>\n",
       "      <td>LogisticRegression</td>\n",
       "      <td>0</td>\n",
       "      <td>0.281584</td>\n",
       "    </tr>\n",
       "    <tr>\n",
       "      <th>21</th>\n",
       "      <td>LogisticRegression</td>\n",
       "      <td>1</td>\n",
       "      <td>0.277242</td>\n",
       "    </tr>\n",
       "    <tr>\n",
       "      <th>22</th>\n",
       "      <td>LogisticRegression</td>\n",
       "      <td>2</td>\n",
       "      <td>0.247288</td>\n",
       "    </tr>\n",
       "    <tr>\n",
       "      <th>23</th>\n",
       "      <td>LogisticRegression</td>\n",
       "      <td>3</td>\n",
       "      <td>0.263916</td>\n",
       "    </tr>\n",
       "    <tr>\n",
       "      <th>24</th>\n",
       "      <td>LogisticRegression</td>\n",
       "      <td>4</td>\n",
       "      <td>0.299402</td>\n",
       "    </tr>\n",
       "    <tr>\n",
       "      <th>25</th>\n",
       "      <td>DecisionTreeClassifier</td>\n",
       "      <td>0</td>\n",
       "      <td>0.299484</td>\n",
       "    </tr>\n",
       "    <tr>\n",
       "      <th>26</th>\n",
       "      <td>DecisionTreeClassifier</td>\n",
       "      <td>1</td>\n",
       "      <td>0.339277</td>\n",
       "    </tr>\n",
       "    <tr>\n",
       "      <th>27</th>\n",
       "      <td>DecisionTreeClassifier</td>\n",
       "      <td>2</td>\n",
       "      <td>0.263178</td>\n",
       "    </tr>\n",
       "    <tr>\n",
       "      <th>28</th>\n",
       "      <td>DecisionTreeClassifier</td>\n",
       "      <td>3</td>\n",
       "      <td>0.334506</td>\n",
       "    </tr>\n",
       "    <tr>\n",
       "      <th>29</th>\n",
       "      <td>DecisionTreeClassifier</td>\n",
       "      <td>4</td>\n",
       "      <td>0.387439</td>\n",
       "    </tr>\n",
       "  </tbody>\n",
       "</table>\n",
       "</div>"
      ],
      "text/plain": [
       "                model_name  fold_idx  balanced_accuracy\n",
       "0               GaussianNB         0           0.237569\n",
       "1               GaussianNB         1           0.314707\n",
       "2               GaussianNB         2           0.185424\n",
       "3               GaussianNB         3           0.184630\n",
       "4               GaussianNB         4           0.298840\n",
       "5            MultinomialNB         0           0.233061\n",
       "6            MultinomialNB         1           0.244685\n",
       "7            MultinomialNB         2           0.191205\n",
       "8            MultinomialNB         3           0.218235\n",
       "9            MultinomialNB         4           0.235986\n",
       "10  RandomForestClassifier         0           0.270995\n",
       "11  RandomForestClassifier         1           0.291574\n",
       "12  RandomForestClassifier         2           0.250275\n",
       "13  RandomForestClassifier         3           0.236328\n",
       "14  RandomForestClassifier         4           0.391636\n",
       "15               LinearSVC         0           0.303370\n",
       "16               LinearSVC         1           0.390138\n",
       "17               LinearSVC         2           0.397515\n",
       "18               LinearSVC         3           0.312909\n",
       "19               LinearSVC         4           0.401744\n",
       "20      LogisticRegression         0           0.281584\n",
       "21      LogisticRegression         1           0.277242\n",
       "22      LogisticRegression         2           0.247288\n",
       "23      LogisticRegression         3           0.263916\n",
       "24      LogisticRegression         4           0.299402\n",
       "25  DecisionTreeClassifier         0           0.299484\n",
       "26  DecisionTreeClassifier         1           0.339277\n",
       "27  DecisionTreeClassifier         2           0.263178\n",
       "28  DecisionTreeClassifier         3           0.334506\n",
       "29  DecisionTreeClassifier         4           0.387439"
      ]
     },
     "execution_count": 28,
     "metadata": {},
     "output_type": "execute_result"
    }
   ],
   "source": [
    "cv_df_balanced"
   ]
  },
  {
   "cell_type": "code",
   "execution_count": 29,
   "metadata": {},
   "outputs": [
    {
     "data": {
      "image/png": "[encoded data removed]",
      "text/plain": [
       "<Figure size 576x360 with 1 Axes>"
      ]
     },
     "metadata": {
      "needs_background": "light"
     },
     "output_type": "display_data"
    }
   ],
   "source": [
    "import seaborn as sns\n",
    "plt.figure(figsize=(8,5))\n",
    "sns.boxplot(x='model_name', y='balanced_accuracy', \n",
    "            data=cv_df_balanced, \n",
    "            color='blue', \n",
    "            showmeans=True)\n",
    "plt.title(\"MEAN  BALANCED ACCURACY (cv = 5)n\", size=14)\n",
    "plt.xticks(rotation=45);"
   ]
  },
  {
   "cell_type": "code",
   "execution_count": 30,
   "metadata": {},
   "outputs": [
    {
     "name": "stdout",
     "output_type": "stream",
     "text": [
      "Done\n",
      "Done\n",
      "Done\n",
      "Done\n",
      "Done\n",
      "Done\n"
     ]
    },
    {
     "data": {
      "text/html": [
       "<div>\n",
       "<style scoped>\n",
       "    .dataframe tbody tr th:only-of-type {\n",
       "        vertical-align: middle;\n",
       "    }\n",
       "\n",
       "    .dataframe tbody tr th {\n",
       "        vertical-align: top;\n",
       "    }\n",
       "\n",
       "    .dataframe thead th {\n",
       "        text-align: right;\n",
       "    }\n",
       "</style>\n",
       "<table border=\"1\" class=\"dataframe\">\n",
       "  <thead>\n",
       "    <tr style=\"text-align: right;\">\n",
       "      <th></th>\n",
       "      <th>Mean Accuracy</th>\n",
       "      <th>Standard deviation</th>\n",
       "    </tr>\n",
       "    <tr>\n",
       "      <th>model_name</th>\n",
       "      <th></th>\n",
       "      <th></th>\n",
       "    </tr>\n",
       "  </thead>\n",
       "  <tbody>\n",
       "    <tr>\n",
       "      <th>DecisionTreeClassifier</th>\n",
       "      <td>0.516730</td>\n",
       "      <td>0.063396</td>\n",
       "    </tr>\n",
       "    <tr>\n",
       "      <th>GaussianNB</th>\n",
       "      <td>0.501563</td>\n",
       "      <td>0.063747</td>\n",
       "    </tr>\n",
       "    <tr>\n",
       "      <th>LinearSVC</th>\n",
       "      <td>0.614298</td>\n",
       "      <td>0.058750</td>\n",
       "    </tr>\n",
       "    <tr>\n",
       "      <th>LogisticRegression</th>\n",
       "      <td>0.620230</td>\n",
       "      <td>0.053788</td>\n",
       "    </tr>\n",
       "    <tr>\n",
       "      <th>MultinomialNB</th>\n",
       "      <td>0.577401</td>\n",
       "      <td>0.038470</td>\n",
       "    </tr>\n",
       "    <tr>\n",
       "      <th>RandomForestClassifier</th>\n",
       "      <td>0.592540</td>\n",
       "      <td>0.058614</td>\n",
       "    </tr>\n",
       "  </tbody>\n",
       "</table>\n",
       "</div>"
      ],
      "text/plain": [
       "                        Mean Accuracy  Standard deviation\n",
       "model_name                                               \n",
       "DecisionTreeClassifier       0.516730            0.063396\n",
       "GaussianNB                   0.501563            0.063747\n",
       "LinearSVC                    0.614298            0.058750\n",
       "LogisticRegression           0.620230            0.053788\n",
       "MultinomialNB                0.577401            0.038470\n",
       "RandomForestClassifier       0.592540            0.058614"
      ]
     },
     "execution_count": 30,
     "metadata": {},
     "output_type": "execute_result"
    }
   ],
   "source": [
    "entries = []\n",
    "for model in models:\n",
    "    model_name = model.__class__.__name__\n",
    "    accuracies = cross_val_score(model, features, labels, scoring='accuracy', cv=CV)\n",
    "    for fold_idx, accuracy in enumerate(accuracies):\n",
    "        entries.append((model_name, fold_idx, accuracy))\n",
    "    print('Done')\n",
    "cv_df = pd.DataFrame(entries, columns=['model_name', 'fold_idx', 'accuracy'])\n",
    "mean_accuracy = cv_df.groupby('model_name').accuracy.mean()\n",
    "std_accuracy = cv_df.groupby('model_name').accuracy.std()\n",
    "\n",
    "acc = pd.concat([mean_accuracy, std_accuracy], axis= 1, \n",
    "          ignore_index=True)\n",
    "acc.columns = ['Mean Accuracy', 'Standard deviation']\n",
    "acc"
   ]
  },
  {
   "cell_type": "code",
   "execution_count": 31,
   "metadata": {},
   "outputs": [
    {
     "data": {
      "text/html": [
       "<div>\n",
       "<style scoped>\n",
       "    .dataframe tbody tr th:only-of-type {\n",
       "        vertical-align: middle;\n",
       "    }\n",
       "\n",
       "    .dataframe tbody tr th {\n",
       "        vertical-align: top;\n",
       "    }\n",
       "\n",
       "    .dataframe thead th {\n",
       "        text-align: right;\n",
       "    }\n",
       "</style>\n",
       "<table border=\"1\" class=\"dataframe\">\n",
       "  <thead>\n",
       "    <tr style=\"text-align: right;\">\n",
       "      <th></th>\n",
       "      <th>model_name</th>\n",
       "      <th>fold_idx</th>\n",
       "      <th>accuracy</th>\n",
       "    </tr>\n",
       "  </thead>\n",
       "  <tbody>\n",
       "    <tr>\n",
       "      <th>0</th>\n",
       "      <td>GaussianNB</td>\n",
       "      <td>0</td>\n",
       "      <td>0.572368</td>\n",
       "    </tr>\n",
       "    <tr>\n",
       "      <th>1</th>\n",
       "      <td>GaussianNB</td>\n",
       "      <td>1</td>\n",
       "      <td>0.559211</td>\n",
       "    </tr>\n",
       "    <tr>\n",
       "      <th>2</th>\n",
       "      <td>GaussianNB</td>\n",
       "      <td>2</td>\n",
       "      <td>0.462046</td>\n",
       "    </tr>\n",
       "    <tr>\n",
       "      <th>3</th>\n",
       "      <td>GaussianNB</td>\n",
       "      <td>3</td>\n",
       "      <td>0.422442</td>\n",
       "    </tr>\n",
       "    <tr>\n",
       "      <th>4</th>\n",
       "      <td>GaussianNB</td>\n",
       "      <td>4</td>\n",
       "      <td>0.491749</td>\n",
       "    </tr>\n",
       "    <tr>\n",
       "      <th>5</th>\n",
       "      <td>MultinomialNB</td>\n",
       "      <td>0</td>\n",
       "      <td>0.608553</td>\n",
       "    </tr>\n",
       "    <tr>\n",
       "      <th>6</th>\n",
       "      <td>MultinomialNB</td>\n",
       "      <td>1</td>\n",
       "      <td>0.628289</td>\n",
       "    </tr>\n",
       "    <tr>\n",
       "      <th>7</th>\n",
       "      <td>MultinomialNB</td>\n",
       "      <td>2</td>\n",
       "      <td>0.541254</td>\n",
       "    </tr>\n",
       "    <tr>\n",
       "      <th>8</th>\n",
       "      <td>MultinomialNB</td>\n",
       "      <td>3</td>\n",
       "      <td>0.554455</td>\n",
       "    </tr>\n",
       "    <tr>\n",
       "      <th>9</th>\n",
       "      <td>MultinomialNB</td>\n",
       "      <td>4</td>\n",
       "      <td>0.554455</td>\n",
       "    </tr>\n",
       "    <tr>\n",
       "      <th>10</th>\n",
       "      <td>RandomForestClassifier</td>\n",
       "      <td>0</td>\n",
       "      <td>0.664474</td>\n",
       "    </tr>\n",
       "    <tr>\n",
       "      <th>11</th>\n",
       "      <td>RandomForestClassifier</td>\n",
       "      <td>1</td>\n",
       "      <td>0.638158</td>\n",
       "    </tr>\n",
       "    <tr>\n",
       "      <th>12</th>\n",
       "      <td>RandomForestClassifier</td>\n",
       "      <td>2</td>\n",
       "      <td>0.574257</td>\n",
       "    </tr>\n",
       "    <tr>\n",
       "      <th>13</th>\n",
       "      <td>RandomForestClassifier</td>\n",
       "      <td>3</td>\n",
       "      <td>0.567657</td>\n",
       "    </tr>\n",
       "    <tr>\n",
       "      <th>14</th>\n",
       "      <td>RandomForestClassifier</td>\n",
       "      <td>4</td>\n",
       "      <td>0.518152</td>\n",
       "    </tr>\n",
       "    <tr>\n",
       "      <th>15</th>\n",
       "      <td>LinearSVC</td>\n",
       "      <td>0</td>\n",
       "      <td>0.687500</td>\n",
       "    </tr>\n",
       "    <tr>\n",
       "      <th>16</th>\n",
       "      <td>LinearSVC</td>\n",
       "      <td>1</td>\n",
       "      <td>0.651316</td>\n",
       "    </tr>\n",
       "    <tr>\n",
       "      <th>17</th>\n",
       "      <td>LinearSVC</td>\n",
       "      <td>2</td>\n",
       "      <td>0.610561</td>\n",
       "    </tr>\n",
       "    <tr>\n",
       "      <th>18</th>\n",
       "      <td>LinearSVC</td>\n",
       "      <td>3</td>\n",
       "      <td>0.587459</td>\n",
       "    </tr>\n",
       "    <tr>\n",
       "      <th>19</th>\n",
       "      <td>LinearSVC</td>\n",
       "      <td>4</td>\n",
       "      <td>0.534653</td>\n",
       "    </tr>\n",
       "    <tr>\n",
       "      <th>20</th>\n",
       "      <td>LogisticRegression</td>\n",
       "      <td>0</td>\n",
       "      <td>0.684211</td>\n",
       "    </tr>\n",
       "    <tr>\n",
       "      <th>21</th>\n",
       "      <td>LogisticRegression</td>\n",
       "      <td>1</td>\n",
       "      <td>0.667763</td>\n",
       "    </tr>\n",
       "    <tr>\n",
       "      <th>22</th>\n",
       "      <td>LogisticRegression</td>\n",
       "      <td>2</td>\n",
       "      <td>0.580858</td>\n",
       "    </tr>\n",
       "    <tr>\n",
       "      <th>23</th>\n",
       "      <td>LogisticRegression</td>\n",
       "      <td>3</td>\n",
       "      <td>0.607261</td>\n",
       "    </tr>\n",
       "    <tr>\n",
       "      <th>24</th>\n",
       "      <td>LogisticRegression</td>\n",
       "      <td>4</td>\n",
       "      <td>0.561056</td>\n",
       "    </tr>\n",
       "    <tr>\n",
       "      <th>25</th>\n",
       "      <td>DecisionTreeClassifier</td>\n",
       "      <td>0</td>\n",
       "      <td>0.569079</td>\n",
       "    </tr>\n",
       "    <tr>\n",
       "      <th>26</th>\n",
       "      <td>DecisionTreeClassifier</td>\n",
       "      <td>1</td>\n",
       "      <td>0.585526</td>\n",
       "    </tr>\n",
       "    <tr>\n",
       "      <th>27</th>\n",
       "      <td>DecisionTreeClassifier</td>\n",
       "      <td>2</td>\n",
       "      <td>0.471947</td>\n",
       "    </tr>\n",
       "    <tr>\n",
       "      <th>28</th>\n",
       "      <td>DecisionTreeClassifier</td>\n",
       "      <td>3</td>\n",
       "      <td>0.521452</td>\n",
       "    </tr>\n",
       "    <tr>\n",
       "      <th>29</th>\n",
       "      <td>DecisionTreeClassifier</td>\n",
       "      <td>4</td>\n",
       "      <td>0.435644</td>\n",
       "    </tr>\n",
       "  </tbody>\n",
       "</table>\n",
       "</div>"
      ],
      "text/plain": [
       "                model_name  fold_idx  accuracy\n",
       "0               GaussianNB         0  0.572368\n",
       "1               GaussianNB         1  0.559211\n",
       "2               GaussianNB         2  0.462046\n",
       "3               GaussianNB         3  0.422442\n",
       "4               GaussianNB         4  0.491749\n",
       "5            MultinomialNB         0  0.608553\n",
       "6            MultinomialNB         1  0.628289\n",
       "7            MultinomialNB         2  0.541254\n",
       "8            MultinomialNB         3  0.554455\n",
       "9            MultinomialNB         4  0.554455\n",
       "10  RandomForestClassifier         0  0.664474\n",
       "11  RandomForestClassifier         1  0.638158\n",
       "12  RandomForestClassifier         2  0.574257\n",
       "13  RandomForestClassifier         3  0.567657\n",
       "14  RandomForestClassifier         4  0.518152\n",
       "15               LinearSVC         0  0.687500\n",
       "16               LinearSVC         1  0.651316\n",
       "17               LinearSVC         2  0.610561\n",
       "18               LinearSVC         3  0.587459\n",
       "19               LinearSVC         4  0.534653\n",
       "20      LogisticRegression         0  0.684211\n",
       "21      LogisticRegression         1  0.667763\n",
       "22      LogisticRegression         2  0.580858\n",
       "23      LogisticRegression         3  0.607261\n",
       "24      LogisticRegression         4  0.561056\n",
       "25  DecisionTreeClassifier         0  0.569079\n",
       "26  DecisionTreeClassifier         1  0.585526\n",
       "27  DecisionTreeClassifier         2  0.471947\n",
       "28  DecisionTreeClassifier         3  0.521452\n",
       "29  DecisionTreeClassifier         4  0.435644"
      ]
     },
     "execution_count": 31,
     "metadata": {},
     "output_type": "execute_result"
    }
   ],
   "source": [
    "cv_df"
   ]
  },
  {
   "cell_type": "code",
   "execution_count": 32,
   "metadata": {},
   "outputs": [
    {
     "data": {
      "image/png": "[encoded data removed]",
      "text/plain": [
       "<Figure size 576x360 with 1 Axes>"
      ]
     },
     "metadata": {
      "needs_background": "light"
     },
     "output_type": "display_data"
    }
   ],
   "source": [
    "import seaborn as sns\n",
    "plt.figure(figsize=(8,5))\n",
    "sns.boxplot(x='model_name', y='accuracy', \n",
    "            data=cv_df, \n",
    "            color='lightblue', \n",
    "            showmeans=True)\n",
    "plt.title(\"MEAN ACCURACY (cv = 5)n\", size=14)\n",
    "plt.xticks(rotation=45);"
   ]
  },
  {
   "cell_type": "markdown",
   "metadata": {},
   "source": [
    "# Training and evaluating LinearSVC"
   ]
  },
  {
   "cell_type": "markdown",
   "metadata": {},
   "source": [
    "LinearSVC model is performing better that other models if we compare balanced accuracy. We will train LinearSVC"
   ]
  },
  {
   "cell_type": "code",
   "execution_count": 33,
   "metadata": {},
   "outputs": [],
   "source": [
    "import sklearn\n",
    "from sklearn.model_selection import train_test_split\n",
    "X_train, X_test, y_train, y_test,indices_train,indices_test = train_test_split(features, \n",
    "                                                               labels, \n",
    "                                                               email_dataframe.index, test_size=0.2, \n",
    "                                                               random_state=42, stratify=email_dataframe.category_tag.values)"
   ]
  },
  {
   "cell_type": "code",
   "execution_count": 34,
   "metadata": {},
   "outputs": [],
   "source": [
    "# Due to class imbalance training weight balanced model\n",
    "model = LinearSVC(class_weight='balanced', dual=False)\n",
    "model.fit(X_train, y_train)\n",
    "y_pred = model.predict(X_test)"
   ]
  },
  {
   "cell_type": "code",
   "execution_count": 35,
   "metadata": {},
   "outputs": [
    {
     "name": "stdout",
     "output_type": "stream",
     "text": [
      "\t\t\t\tCLASSIFICATIION METRICS\n",
      "\n",
      "                                      precision    recall  f1-score   support\n",
      "\n",
      "    Company Business, Strategy, etc.       0.73      0.82      0.77       155\n",
      "                     Purely Personal       1.00      0.33      0.50         9\n",
      "Personal but in professional context       0.45      0.35      0.39        26\n",
      "               Logistic Arrangements       0.66      0.65      0.66        78\n",
      "             Employment arrangements       0.38      0.25      0.30        12\n",
      "           Document editing/checking       0.43      0.42      0.43        24\n",
      "\n",
      "                            accuracy                           0.67       304\n",
      "                           macro avg       0.61      0.47      0.51       304\n",
      "                        weighted avg       0.66      0.67      0.66       304\n",
      "\n"
     ]
    }
   ],
   "source": [
    "print('\\t\\t\\t\\tCLASSIFICATIION METRICS\\n')\n",
    "print(sklearn.metrics.classification_report(y_test, y_pred, target_names=[category_tag_to_name[i] for i in sorted(category_tag_to_name.keys())]))"
   ]
  },
  {
   "cell_type": "code",
   "execution_count": 36,
   "metadata": {},
   "outputs": [
    {
     "data": {
      "text/plain": [
       "0.36387096774193534"
      ]
     },
     "execution_count": 36,
     "metadata": {},
     "output_type": "execute_result"
    }
   ],
   "source": [
    "sklearn.metrics.balanced_accuracy_score(y_test, y_pred, adjusted=True)"
   ]
  },
  {
   "cell_type": "code",
   "execution_count": 37,
   "metadata": {},
   "outputs": [
    {
     "data": {
      "image/png": "[encoded data removed]",
      "text/plain": [
       "<Figure size 576x576 with 2 Axes>"
      ]
     },
     "metadata": {
      "needs_background": "light"
     },
     "output_type": "display_data"
    }
   ],
   "source": [
    "conf_mat = sklearn.metrics.confusion_matrix(y_test, y_pred)\n",
    "fig, ax = plt.subplots(figsize=(8,8))\n",
    "sns.heatmap(conf_mat, annot=True, cmap=\"Blues\", fmt='d',\n",
    "            xticklabels=[category_tag_to_name[i] for i in sorted(category_tag_to_name.keys())], \n",
    "            yticklabels=[category_tag_to_name[i] for i in sorted(category_tag_to_name.keys())])\n",
    "plt.ylabel('Actual')\n",
    "plt.xlabel('Predicted')\n",
    "plt.title(\"CONFUSION MATRIX - LinearSVC\\n\", size=16);"
   ]
  },
  {
   "cell_type": "markdown",
   "metadata": {},
   "source": [
    "From above we can see due to imbalanced dataset more datapoint from other class get classified as \"Company Business, Strategy, etc\"\n",
    "This class constitute 50% of dataset and data for other class is very low"
   ]
  },
  {
   "cell_type": "markdown",
   "metadata": {},
   "source": [
    "# Training and evalating fine-tuned bert model"
   ]
  },
  {
   "cell_type": "markdown",
   "metadata": {},
   "source": [
    "We will now fine-tune pretrained BERT to see if performance increases.\n",
    "<br>\n",
    "Training repo\n",
    "<br>\n",
    "https://github.com/Navneet3440/enron_email_classifier\n",
    "<br>\n",
    "Training done on google colab\n",
    "<br>\n",
    "https://colab.research.google.com/drive/1hC4VkRWOrtnFGGRCAZCQYzT1jEYD7ujI?usp=sharing\n",
    "<br>\n",
    "Data used is slightly different----I have not removed stop word as it is not required\n",
    "<br>\n",
    "Trained model location and corresponding csv file which contain train and validation loss\n",
    "<br>\n",
    "https://drive.google.com/drive/folders/1T0owuwvJbncAkiqyZAmVDF3-uJ7sYkKx?usp=sharing"
   ]
  },
  {
   "cell_type": "code",
   "execution_count": 38,
   "metadata": {},
   "outputs": [],
   "source": [
    "result_csv = './bert-base-uncased_512_ds1_ba_lr3e-05_3_best_balance_accuracy_forward_removed_2.csv'\n",
    "result_df = pd.read_csv(result_csv)"
   ]
  },
  {
   "cell_type": "code",
   "execution_count": 39,
   "metadata": {},
   "outputs": [
    {
     "data": {
      "text/html": [
       "<div>\n",
       "<style scoped>\n",
       "    .dataframe tbody tr th:only-of-type {\n",
       "        vertical-align: middle;\n",
       "    }\n",
       "\n",
       "    .dataframe tbody tr th {\n",
       "        vertical-align: top;\n",
       "    }\n",
       "\n",
       "    .dataframe thead th {\n",
       "        text-align: right;\n",
       "    }\n",
       "</style>\n",
       "<table border=\"1\" class=\"dataframe\">\n",
       "  <thead>\n",
       "    <tr style=\"text-align: right;\">\n",
       "      <th></th>\n",
       "      <th>epoc</th>\n",
       "      <th>train_loss</th>\n",
       "      <th>valid_loss</th>\n",
       "      <th>valic_accuracy</th>\n",
       "      <th>valid_balanced_accuracy</th>\n",
       "      <th>valid_balanced_accuracy_adjusted</th>\n",
       "    </tr>\n",
       "  </thead>\n",
       "  <tbody>\n",
       "    <tr>\n",
       "      <th>0</th>\n",
       "      <td>1</td>\n",
       "      <td>1.673819</td>\n",
       "      <td>1.343389</td>\n",
       "      <td>0.651466</td>\n",
       "      <td>0.523860</td>\n",
       "      <td>0.428632</td>\n",
       "    </tr>\n",
       "    <tr>\n",
       "      <th>1</th>\n",
       "      <td>2</td>\n",
       "      <td>1.148633</td>\n",
       "      <td>1.120136</td>\n",
       "      <td>0.684039</td>\n",
       "      <td>0.536538</td>\n",
       "      <td>0.443846</td>\n",
       "    </tr>\n",
       "    <tr>\n",
       "      <th>2</th>\n",
       "      <td>3</td>\n",
       "      <td>0.686389</td>\n",
       "      <td>1.258390</td>\n",
       "      <td>0.664495</td>\n",
       "      <td>0.519996</td>\n",
       "      <td>0.423996</td>\n",
       "    </tr>\n",
       "    <tr>\n",
       "      <th>3</th>\n",
       "      <td>4</td>\n",
       "      <td>0.402887</td>\n",
       "      <td>1.122326</td>\n",
       "      <td>0.674267</td>\n",
       "      <td>0.634847</td>\n",
       "      <td>0.561816</td>\n",
       "    </tr>\n",
       "    <tr>\n",
       "      <th>4</th>\n",
       "      <td>5</td>\n",
       "      <td>0.192231</td>\n",
       "      <td>1.313011</td>\n",
       "      <td>0.648208</td>\n",
       "      <td>0.586378</td>\n",
       "      <td>0.503654</td>\n",
       "    </tr>\n",
       "    <tr>\n",
       "      <th>5</th>\n",
       "      <td>6</td>\n",
       "      <td>0.105181</td>\n",
       "      <td>1.496654</td>\n",
       "      <td>0.690554</td>\n",
       "      <td>0.554594</td>\n",
       "      <td>0.465513</td>\n",
       "    </tr>\n",
       "    <tr>\n",
       "      <th>6</th>\n",
       "      <td>7</td>\n",
       "      <td>0.065014</td>\n",
       "      <td>1.607927</td>\n",
       "      <td>0.710098</td>\n",
       "      <td>0.563782</td>\n",
       "      <td>0.476538</td>\n",
       "    </tr>\n",
       "    <tr>\n",
       "      <th>7</th>\n",
       "      <td>8</td>\n",
       "      <td>0.048428</td>\n",
       "      <td>1.632972</td>\n",
       "      <td>0.723127</td>\n",
       "      <td>0.573397</td>\n",
       "      <td>0.488077</td>\n",
       "    </tr>\n",
       "    <tr>\n",
       "      <th>8</th>\n",
       "      <td>9</td>\n",
       "      <td>0.040954</td>\n",
       "      <td>1.719950</td>\n",
       "      <td>0.713355</td>\n",
       "      <td>0.576549</td>\n",
       "      <td>0.491859</td>\n",
       "    </tr>\n",
       "    <tr>\n",
       "      <th>9</th>\n",
       "      <td>10</td>\n",
       "      <td>0.032074</td>\n",
       "      <td>1.631847</td>\n",
       "      <td>0.719870</td>\n",
       "      <td>0.578686</td>\n",
       "      <td>0.494423</td>\n",
       "    </tr>\n",
       "  </tbody>\n",
       "</table>\n",
       "</div>"
      ],
      "text/plain": [
       "   epoc  train_loss  valid_loss  valic_accuracy  valid_balanced_accuracy  \\\n",
       "0     1    1.673819    1.343389        0.651466                 0.523860   \n",
       "1     2    1.148633    1.120136        0.684039                 0.536538   \n",
       "2     3    0.686389    1.258390        0.664495                 0.519996   \n",
       "3     4    0.402887    1.122326        0.674267                 0.634847   \n",
       "4     5    0.192231    1.313011        0.648208                 0.586378   \n",
       "5     6    0.105181    1.496654        0.690554                 0.554594   \n",
       "6     7    0.065014    1.607927        0.710098                 0.563782   \n",
       "7     8    0.048428    1.632972        0.723127                 0.573397   \n",
       "8     9    0.040954    1.719950        0.713355                 0.576549   \n",
       "9    10    0.032074    1.631847        0.719870                 0.578686   \n",
       "\n",
       "   valid_balanced_accuracy_adjusted  \n",
       "0                          0.428632  \n",
       "1                          0.443846  \n",
       "2                          0.423996  \n",
       "3                          0.561816  \n",
       "4                          0.503654  \n",
       "5                          0.465513  \n",
       "6                          0.476538  \n",
       "7                          0.488077  \n",
       "8                          0.491859  \n",
       "9                          0.494423  "
      ]
     },
     "execution_count": 39,
     "metadata": {},
     "output_type": "execute_result"
    }
   ],
   "source": [
    "result_df"
   ]
  },
  {
   "cell_type": "code",
   "execution_count": 40,
   "metadata": {},
   "outputs": [
    {
     "data": {
      "image/png": "[encoded data removed]",
      "text/plain": [
       "<Figure size 432x288 with 1 Axes>"
      ]
     },
     "metadata": {
      "needs_background": "light"
     },
     "output_type": "display_data"
    }
   ],
   "source": [
    "plt.title(\"Loss\")\n",
    "plt.plot(result_df.epoc.values,result_df.train_loss.values, label='train')\n",
    "plt.plot(result_df.epoc.values,result_df.valid_loss.values, label='validation')\n",
    "plt.legend()\n",
    "plt.xlabel(\"Epochs\")\n",
    "plt.ylabel(\"loss\")\n",
    "plt.legend()\n",
    "plt.show()"
   ]
  },
  {
   "cell_type": "code",
   "execution_count": 41,
   "metadata": {},
   "outputs": [
    {
     "data": {
      "image/png": "[encoded data removed]",
      "text/plain": [
       "<Figure size 432x288 with 1 Axes>"
      ]
     },
     "metadata": {
      "needs_background": "light"
     },
     "output_type": "display_data"
    }
   ],
   "source": [
    "plt.title(\"Accuracy\")\n",
    "plt.plot(result_df.epoc.values,result_df.valic_accuracy.values, label='valid_accuracy')\n",
    "plt.plot(result_df.epoc.values,result_df.valid_balanced_accuracy.values, label='valid_balanced_accuracy')\n",
    "plt.legend()\n",
    "plt.xlabel(\"Epochs\")\n",
    "plt.ylabel(\"Accuracy\")\n",
    "plt.legend()\n",
    "plt.show()"
   ]
  },
  {
   "cell_type": "markdown",
   "metadata": {},
   "source": [
    "As we can see after epoch 4 models start to overfit. So we will use model check-point at 4rd epoch\n",
    "balanced accuracy is much higher compared to LinearSVC"
   ]
  },
  {
   "cell_type": "code",
   "execution_count": 42,
   "metadata": {},
   "outputs": [],
   "source": [
    "# getting file id for files which was used in test case of LinearSVM\n",
    "test_file_id_svm = email_dataframe['file_id'][indices_test].values"
   ]
  },
  {
   "cell_type": "code",
   "execution_count": 43,
   "metadata": {},
   "outputs": [],
   "source": [
    "# Reprocessing files. Only not removing stop word\n",
    "test_bert_df = pd.read_csv('./test_bert_inference.csv')"
   ]
  },
  {
   "cell_type": "code",
   "execution_count": 44,
   "metadata": {},
   "outputs": [],
   "source": [
    "bert_pred_csv = pd.read_csv('./bert_inference.csv')"
   ]
  },
  {
   "cell_type": "code",
   "execution_count": 45,
   "metadata": {},
   "outputs": [],
   "source": [
    "y_test, y_pred = test_bert_df.category_tag -1 , bert_pred_csv.model_category_label"
   ]
  },
  {
   "cell_type": "code",
   "execution_count": 46,
   "metadata": {},
   "outputs": [
    {
     "name": "stdout",
     "output_type": "stream",
     "text": [
      "                                      precision    recall  f1-score   support\n",
      "\n",
      "    Company Business, Strategy, etc.       0.81      0.73      0.77       156\n",
      "                     Purely Personal       0.50      0.56      0.53         9\n",
      "Personal but in professional context       0.27      0.58      0.37        26\n",
      "               Logistic Arrangements       0.79      0.61      0.69        80\n",
      "             Employment arrangements       0.53      0.67      0.59        12\n",
      "           Document editing/checking       0.67      0.67      0.67        24\n",
      "\n",
      "                            accuracy                           0.67       307\n",
      "                           macro avg       0.60      0.63      0.60       307\n",
      "                        weighted avg       0.73      0.67      0.69       307\n",
      "\n"
     ]
    }
   ],
   "source": [
    "print(sklearn.metrics.classification_report(y_test, y_pred, target_names=[category_tag_to_name[i] for i in sorted(category_tag_to_name.keys())]))"
   ]
  },
  {
   "cell_type": "code",
   "execution_count": 47,
   "metadata": {},
   "outputs": [
    {
     "data": {
      "text/plain": [
       "0.5618162393162393"
      ]
     },
     "execution_count": 47,
     "metadata": {},
     "output_type": "execute_result"
    }
   ],
   "source": [
    "sklearn.metrics.balanced_accuracy_score(y_test, y_pred, adjusted=True)"
   ]
  },
  {
   "cell_type": "code",
   "execution_count": 48,
   "metadata": {},
   "outputs": [
    {
     "data": {
      "text/plain": [
       "0.6742671009771987"
      ]
     },
     "execution_count": 48,
     "metadata": {},
     "output_type": "execute_result"
    }
   ],
   "source": [
    "sklearn.metrics.accuracy_score(y_test, y_pred)"
   ]
  },
  {
   "cell_type": "code",
   "execution_count": 49,
   "metadata": {},
   "outputs": [
    {
     "data": {
      "image/png": "[encoded data removed]",
      "text/plain": [
       "<Figure size 576x576 with 2 Axes>"
      ]
     },
     "metadata": {
      "needs_background": "light"
     },
     "output_type": "display_data"
    }
   ],
   "source": [
    "conf_mat = sklearn.metrics.confusion_matrix(y_test, y_pred)\n",
    "fig, ax = plt.subplots(figsize=(8,8))\n",
    "sns.heatmap(conf_mat, annot=True, cmap=\"Blues\", fmt='d',\n",
    "            xticklabels=[category_tag_to_name[i] for i in sorted(category_tag_to_name.keys())], \n",
    "            yticklabels=[category_tag_to_name[i] for i in sorted(category_tag_to_name.keys())])\n",
    "plt.ylabel('Actual')\n",
    "plt.xlabel('Predicted')\n",
    "plt.title(\"CONFUSION MATRIX - BERTC\\n\", size=16);"
   ]
  },
  {
   "cell_type": "markdown",
   "metadata": {},
   "source": [
    "We can observe that fine-tuned bert model performs better than LinearSVC for classes with less data-point"
   ]
  },
  {
   "cell_type": "code",
   "execution_count": null,
   "metadata": {},
   "outputs": [],
   "source": []
  }
 ],
 "metadata": {
  "kernelspec": {
   "display_name": "Python 3",
   "language": "python",
   "name": "python3"
  },
  "language_info": {
   "codemirror_mode": {
    "name": "ipython",
    "version": 3
   },
   "file_extension": ".py",
   "mimetype": "text/x-python",
   "name": "python",
   "nbconvert_exporter": "python",
   "pygments_lexer": "ipython3",
   "version": "3.8.5"
  }
 },
 "nbformat": 4,
 "nbformat_minor": 4
}
