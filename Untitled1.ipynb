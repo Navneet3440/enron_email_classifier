{
 "cells": [
  {
   "cell_type": "code",
   "execution_count": 47,
   "metadata": {},
   "outputs": [],
   "source": [
    "import pandas as pd\n",
    "from pathlib import Path\n",
    "import email\n",
    "import numpy as np"
   ]
  },
  {
   "cell_type": "code",
   "execution_count": 48,
   "metadata": {},
   "outputs": [],
   "source": [
    "data_location = './enron_with_categories'"
   ]
  },
  {
   "cell_type": "code",
   "execution_count": 49,
   "metadata": {},
   "outputs": [],
   "source": [
    "# Read txt and cats file and map them based on file id.\n",
    "#extract relavent classification tag for email content\n",
    "data_folder = Path(data_location)\n",
    "files = data_folder.glob('./*/*.txt')\n",
    "data = [(i.name.split('.')[0], i.read_text()) for i in files]\n",
    "data_frame = pd.DataFrame(data, columns = ['file_id','content'])\n",
    "category_tags_files = data_folder.glob('./*/*.cats')\n",
    "data_cat = [(i.name.split('.')[0], i.read_text().split('\\n')[0]) for i in category_tags_files]\n",
    "tag_dataframe = pd.DataFrame(data_cat, columns =['file_id','category_tag'])\n",
    "email_dataframe = data_frame.set_index('file_id').join(tag_dataframe.set_index('file_id'))\n",
    "email_dataframe['category_tag'] = email_dataframe['category_tag'].astype('str')\n",
    "email_dataframe['category_tag'] = email_dataframe['category_tag'].apply(lambda x: int(x.split(',')[1].strip()) if x.split(',')[0].strip() == '1' else np.NaN)\n",
    "email_dataframe['category_tag'] = email_dataframe['category_tag'].astype('int')\n",
    "email_dataframe.reset_index(inplace=True)"
   ]
  },
  {
   "cell_type": "code",
   "execution_count": 50,
   "metadata": {},
   "outputs": [],
   "source": [
    "# Helper function to extract email text from email content\n",
    "def get_content_from_email(email_content):\n",
    "    '''get the content from email objects'''\n",
    "    parts = []\n",
    "    for sub_part in email_content.walk():\n",
    "        if sub_part.get_content_type() == 'text/plain':\n",
    "            payload = sub_part.get_payload()\n",
    "            payload = ' '.join(payload.split())\n",
    "            parts.append( payload )\n",
    "        subject = email_content.get('Subject')\n",
    "        \n",
    "    return ''.join(parts), subject"
   ]
  },
  {
   "cell_type": "code",
   "execution_count": 51,
   "metadata": {},
   "outputs": [],
   "source": [
    "#extract email text using helper function and dedupe\n",
    "# remove last two categories for empty message\n",
    "messages = list(map(email.message_from_string, email_dataframe['content']))\n",
    "email_dataframe[['email_text','subject']] = list(map(get_content_from_email, messages))\n",
    "email_dataframe.drop(index = email_dataframe.query(\"category_tag == 7 or category_tag == 8\").index, inplace=True)\n",
    "email_dataframe.drop_duplicates(subset='email_text',inplace=True)\n",
    "email_dataframe.reset_index(drop=True, inplace=True)"
   ]
  },
  {
   "cell_type": "code",
   "execution_count": 52,
   "metadata": {},
   "outputs": [
    {
     "data": {
      "text/plain": [
       "file_id          0\n",
       "content          0\n",
       "category_tag     0\n",
       "email_text       0\n",
       "subject         61\n",
       "dtype: int64"
      ]
     },
     "execution_count": 52,
     "metadata": {},
     "output_type": "execute_result"
    }
   ],
   "source": [
    "assert email_dataframe.isna().sum().sum() == 0\n",
    "email_dataframe.applymap(lambda x: x == '').sum()"
   ]
  },
  {
   "cell_type": "code",
   "execution_count": 55,
   "metadata": {},
   "outputs": [
    {
     "data": {
      "text/plain": [
       "array([[False],\n",
       "       [False],\n",
       "       [False],\n",
       "       ...,\n",
       "       [False],\n",
       "       [False],\n",
       "       [False]])"
      ]
     },
     "execution_count": 55,
     "metadata": {},
     "output_type": "execute_result"
    }
   ],
   "source": [
    "email_dataframe[['subject']].applymap(lambda x: x == '').values"
   ]
  },
  {
   "cell_type": "code",
   "execution_count": 59,
   "metadata": {},
   "outputs": [],
   "source": [
    "email_dataframe['text'] = email_dataframe['subject'] + \". \" + email_dataframe['email_text']\n",
    "email_dataframe['text'] = email_dataframe['text'].apply(lambda x: x.lstrip(' .'))"
   ]
  },
  {
   "cell_type": "code",
   "execution_count": 64,
   "metadata": {},
   "outputs": [
    {
     "data": {
      "text/plain": [
       "'[!\"#$%&\\'()*+,-./:;<=>?@[\\\\]^_`{|}~]'"
      ]
     },
     "execution_count": 64,
     "metadata": {},
     "output_type": "execute_result"
    }
   ],
   "source": [
    "import string\n",
    "\"[\"+string.punctuation+\"]\""
   ]
  },
  {
   "cell_type": "code",
   "execution_count": 68,
   "metadata": {},
   "outputs": [],
   "source": [
    "import nltk\n",
    "nltk.download('stopwords')\n",
    "from nltk.corpus import stopwords\n",
    "stop = stopwords.words('english')"
   ]
  },
  {
   "cell_type": "code",
   "execution_count": null,
   "metadata": {},
   "outputs": [],
   "source": []
  }
 ],
 "metadata": {
  "kernelspec": {
   "display_name": "Python 3",
   "language": "python",
   "name": "python3"
  },
  "language_info": {
   "codemirror_mode": {
    "name": "ipython",
    "version": 3
   },
   "file_extension": ".py",
   "mimetype": "text/x-python",
   "name": "python",
   "nbconvert_exporter": "python",
   "pygments_lexer": "ipython3",
   "version": "3.8.5"
  }
 },
 "nbformat": 4,
 "nbformat_minor": 4
}
