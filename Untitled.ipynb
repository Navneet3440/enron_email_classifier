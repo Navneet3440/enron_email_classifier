{
 "cells": [
  {
   "cell_type": "code",
   "execution_count": 2,
   "metadata": {},
   "outputs": [],
   "source": [
    "import pandas as pd\n",
    "from pathlib import Path\n",
    "import email\n",
    "import numpy as np"
   ]
  },
  {
   "cell_type": "code",
   "execution_count": null,
   "metadata": {},
   "outputs": [],
   "source": [
    "data_location = './enron_with_categories'"
   ]
  },
  {
   "cell_type": "code",
   "execution_count": null,
   "metadata": {},
   "outputs": [],
   "source": [
    "data_folder = Path(data_location)\n",
    "files = data_folder.glob('./*/*.txt')\n",
    "class_tags_files = data_folder.glob('./*/*.cats')\n",
    "\n",
    "data = [(i.name.split('.')[0], i.read_text()) for i in files]\n",
    "data_frame = pd.DataFrame(data, columns = ['file_id','content'])\n",
    "print(data_frame.head())\n",
    "assert data_frame.shape[0] == data_frame['file_id'].nunique()"
   ]
  },
  {
   "cell_type": "code",
   "execution_count": null,
   "metadata": {},
   "outputs": [],
   "source": [
    "class_tags_files = data_folder.glob('./*/*.cats')\n",
    "data_cat = [(i.name.split('.')[0], i.read_text().split('\\n')[0]) for i in class_tags_files]\n",
    "tag_dataframe = pd.DataFrame(data_cat, columns =['file_id','class_tag'])"
   ]
  },
  {
   "cell_type": "code",
   "execution_count": null,
   "metadata": {},
   "outputs": [],
   "source": [
    "tag_dataframe"
   ]
  },
  {
   "cell_type": "code",
   "execution_count": null,
   "metadata": {},
   "outputs": [],
   "source": [
    "final_dataframe = data_frame.set_index('file_id').join(tag_dataframe.set_index('file_id'))\n",
    "final_dataframe['class_tag'] = final_dataframe['class_tag'].astype('str')"
   ]
  },
  {
   "cell_type": "code",
   "execution_count": null,
   "metadata": {},
   "outputs": [],
   "source": [
    "final_dataframe['class_tag'] = final_dataframe['class_tag'].apply(lambda x: int(x.split(',')[1].strip()) if x.split(',')[0].strip() == '1' else np.NaN)\n",
    "final_dataframe['class_tag'] = final_dataframe['class_tag'].astype('int')"
   ]
  },
  {
   "cell_type": "code",
   "execution_count": null,
   "metadata": {},
   "outputs": [],
   "source": [
    "final_dataframe.dtypes"
   ]
  },
  {
   "cell_type": "code",
   "execution_count": null,
   "metadata": {},
   "outputs": [],
   "source": [
    "final_dataframe.drop(columns='file_id', inplace= True)"
   ]
  },
  {
   "cell_type": "code",
   "execution_count": null,
   "metadata": {},
   "outputs": [],
   "source": [
    "final_dataframe['content'].isnull().sum()"
   ]
  },
  {
   "cell_type": "code",
   "execution_count": 6,
   "metadata": {},
   "outputs": [],
   "source": [
    "final_dataframe = pd.read_csv('./final_data.csv')"
   ]
  },
  {
   "cell_type": "code",
   "execution_count": 7,
   "metadata": {},
   "outputs": [
    {
     "data": {
      "text/html": [
       "<div>\n",
       "<style scoped>\n",
       "    .dataframe tbody tr th:only-of-type {\n",
       "        vertical-align: middle;\n",
       "    }\n",
       "\n",
       "    .dataframe tbody tr th {\n",
       "        vertical-align: top;\n",
       "    }\n",
       "\n",
       "    .dataframe thead th {\n",
       "        text-align: right;\n",
       "    }\n",
       "</style>\n",
       "<table border=\"1\" class=\"dataframe\">\n",
       "  <thead>\n",
       "    <tr style=\"text-align: right;\">\n",
       "      <th></th>\n",
       "      <th>index</th>\n",
       "      <th>file_id</th>\n",
       "      <th>content</th>\n",
       "      <th>class_tag</th>\n",
       "      <th>email_text</th>\n",
       "    </tr>\n",
       "  </thead>\n",
       "  <tbody>\n",
       "    <tr>\n",
       "      <th>0</th>\n",
       "      <td>0</td>\n",
       "      <td>10425</td>\n",
       "      <td>Message-ID: &lt;197504.1075840201539.JavaMail.eva...</td>\n",
       "      <td>1</td>\n",
       "      <td>---------------------- Forwarded by Steven J K...</td>\n",
       "    </tr>\n",
       "    <tr>\n",
       "      <th>1</th>\n",
       "      <td>1</td>\n",
       "      <td>106296</td>\n",
       "      <td>Message-ID: &lt;11991339.1075842536086.JavaMail.e...</td>\n",
       "      <td>1</td>\n",
       "      <td>In anticipation of potential litigation involv...</td>\n",
       "    </tr>\n",
       "    <tr>\n",
       "      <th>2</th>\n",
       "      <td>2</td>\n",
       "      <td>106298</td>\n",
       "      <td>Message-ID: &lt;7106753.1075842536132.JavaMail.ev...</td>\n",
       "      <td>1</td>\n",
       "      <td>Julia and Steve--here are some questions I've ...</td>\n",
       "    </tr>\n",
       "    <tr>\n",
       "      <th>3</th>\n",
       "      <td>3</td>\n",
       "      <td>106588</td>\n",
       "      <td>Message-ID: &lt;21267718.1075863331587.JavaMail.e...</td>\n",
       "      <td>1</td>\n",
       "      <td>Julia and Steve--here are some questions I've ...</td>\n",
       "    </tr>\n",
       "    <tr>\n",
       "      <th>4</th>\n",
       "      <td>4</td>\n",
       "      <td>106590</td>\n",
       "      <td>Message-ID: &lt;20866019.1075863331634.JavaMail.e...</td>\n",
       "      <td>1</td>\n",
       "      <td>In anticipation of potential litigation involv...</td>\n",
       "    </tr>\n",
       "    <tr>\n",
       "      <th>...</th>\n",
       "      <td>...</td>\n",
       "      <td>...</td>\n",
       "      <td>...</td>\n",
       "      <td>...</td>\n",
       "      <td>...</td>\n",
       "    </tr>\n",
       "    <tr>\n",
       "      <th>1658</th>\n",
       "      <td>1658</td>\n",
       "      <td>54679</td>\n",
       "      <td>Message-ID: &lt;31003117.1075863429910.JavaMail.e...</td>\n",
       "      <td>6</td>\n",
       "      <td>Thanks, The same to you. Vince -----Original M...</td>\n",
       "    </tr>\n",
       "    <tr>\n",
       "      <th>1659</th>\n",
       "      <td>1659</td>\n",
       "      <td>54680</td>\n",
       "      <td>Message-ID: &lt;2613921.1075863429932.JavaMail.ev...</td>\n",
       "      <td>6</td>\n",
       "      <td>Anita, Very minor changes. Thanks. Vince</td>\n",
       "    </tr>\n",
       "    <tr>\n",
       "      <th>1660</th>\n",
       "      <td>1660</td>\n",
       "      <td>54683</td>\n",
       "      <td>Message-ID: &lt;10388147.1075863430003.JavaMail.e...</td>\n",
       "      <td>3</td>\n",
       "      <td>-----Original Message----- From: \"Joanna Vidal...</td>\n",
       "    </tr>\n",
       "    <tr>\n",
       "      <th>1661</th>\n",
       "      <td>1661</td>\n",
       "      <td>81420</td>\n",
       "      <td>Message-ID: &lt;29691642.1075863611766.JavaMail.e...</td>\n",
       "      <td>6</td>\n",
       "      <td>Confidential Rika I spoke to Kevin the other d...</td>\n",
       "    </tr>\n",
       "    <tr>\n",
       "      <th>1662</th>\n",
       "      <td>1662</td>\n",
       "      <td>9242</td>\n",
       "      <td>Message-ID: &lt;6101915.1075852656236.JavaMail.ev...</td>\n",
       "      <td>6</td>\n",
       "      <td>Attached is the draft. It combines all three a...</td>\n",
       "    </tr>\n",
       "  </tbody>\n",
       "</table>\n",
       "<p>1663 rows × 5 columns</p>\n",
       "</div>"
      ],
      "text/plain": [
       "      index  file_id                                            content  \\\n",
       "0         0    10425  Message-ID: <197504.1075840201539.JavaMail.eva...   \n",
       "1         1   106296  Message-ID: <11991339.1075842536086.JavaMail.e...   \n",
       "2         2   106298  Message-ID: <7106753.1075842536132.JavaMail.ev...   \n",
       "3         3   106588  Message-ID: <21267718.1075863331587.JavaMail.e...   \n",
       "4         4   106590  Message-ID: <20866019.1075863331634.JavaMail.e...   \n",
       "...     ...      ...                                                ...   \n",
       "1658   1658    54679  Message-ID: <31003117.1075863429910.JavaMail.e...   \n",
       "1659   1659    54680  Message-ID: <2613921.1075863429932.JavaMail.ev...   \n",
       "1660   1660    54683  Message-ID: <10388147.1075863430003.JavaMail.e...   \n",
       "1661   1661    81420  Message-ID: <29691642.1075863611766.JavaMail.e...   \n",
       "1662   1662     9242  Message-ID: <6101915.1075852656236.JavaMail.ev...   \n",
       "\n",
       "      class_tag                                         email_text  \n",
       "0             1  ---------------------- Forwarded by Steven J K...  \n",
       "1             1  In anticipation of potential litigation involv...  \n",
       "2             1  Julia and Steve--here are some questions I've ...  \n",
       "3             1  Julia and Steve--here are some questions I've ...  \n",
       "4             1  In anticipation of potential litigation involv...  \n",
       "...         ...                                                ...  \n",
       "1658          6  Thanks, The same to you. Vince -----Original M...  \n",
       "1659          6           Anita, Very minor changes. Thanks. Vince  \n",
       "1660          3  -----Original Message----- From: \"Joanna Vidal...  \n",
       "1661          6  Confidential Rika I spoke to Kevin the other d...  \n",
       "1662          6  Attached is the draft. It combines all three a...  \n",
       "\n",
       "[1663 rows x 5 columns]"
      ]
     },
     "execution_count": 7,
     "metadata": {},
     "output_type": "execute_result"
    }
   ],
   "source": [
    "final_dataframe"
   ]
  },
  {
   "cell_type": "code",
   "execution_count": 8,
   "metadata": {},
   "outputs": [
    {
     "data": {
      "text/plain": [
       "<AxesSubplot:>"
      ]
     },
     "execution_count": 8,
     "metadata": {},
     "output_type": "execute_result"
    },
    {
     "data": {
      "image/png": "[encoded data removed]",
      "text/plain": [
       "<Figure size 432x288 with 1 Axes>"
      ]
     },
     "metadata": {
      "needs_background": "light"
     },
     "output_type": "display_data"
    }
   ],
   "source": [
    "final_dataframe['class_tag'].hist(bins=6)"
   ]
  },
  {
   "cell_type": "code",
   "execution_count": 98,
   "metadata": {},
   "outputs": [],
   "source": [
    "final_dataframe.drop(index = final_dataframe.query(\"class_tag == 7 or class_tag == 8\").index, inplace=True)"
   ]
  },
  {
   "cell_type": "code",
   "execution_count": 96,
   "metadata": {},
   "outputs": [
    {
     "data": {
      "text/html": [
       "<div>\n",
       "<style scoped>\n",
       "    .dataframe tbody tr th:only-of-type {\n",
       "        vertical-align: middle;\n",
       "    }\n",
       "\n",
       "    .dataframe tbody tr th {\n",
       "        vertical-align: top;\n",
       "    }\n",
       "\n",
       "    .dataframe thead th {\n",
       "        text-align: right;\n",
       "    }\n",
       "</style>\n",
       "<table border=\"1\" class=\"dataframe\">\n",
       "  <thead>\n",
       "    <tr style=\"text-align: right;\">\n",
       "      <th></th>\n",
       "      <th>file_id</th>\n",
       "      <th>content</th>\n",
       "      <th>class_tag</th>\n",
       "      <th>email_text</th>\n",
       "    </tr>\n",
       "  </thead>\n",
       "  <tbody>\n",
       "    <tr>\n",
       "      <th>1663</th>\n",
       "      <td>115905</td>\n",
       "      <td>Message-ID: &lt;8217324.1075842988636.JavaMail.ev...</td>\n",
       "      <td>7</td>\n",
       "      <td>Thanks..... what's a BEEP? Jeff Dasovich Sent ...</td>\n",
       "    </tr>\n",
       "    <tr>\n",
       "      <th>1664</th>\n",
       "      <td>136233</td>\n",
       "      <td>Message-ID: &lt;33384725.1075851974194.JavaMail.e...</td>\n",
       "      <td>7</td>\n",
       "      <td>---------------------- Forwarded by Steven J K...</td>\n",
       "    </tr>\n",
       "    <tr>\n",
       "      <th>1665</th>\n",
       "      <td>136394</td>\n",
       "      <td>Message-ID: &lt;16579878.1075858707789.JavaMail.e...</td>\n",
       "      <td>7</td>\n",
       "      <td>-----Original Message----- From: Black, Andy [...</td>\n",
       "    </tr>\n",
       "    <tr>\n",
       "      <th>1666</th>\n",
       "      <td>173901</td>\n",
       "      <td>Message-ID: &lt;20902759.1075846162054.JavaMail.e...</td>\n",
       "      <td>7</td>\n",
       "      <td>calendar ---------------------- Forwarded by S...</td>\n",
       "    </tr>\n",
       "    <tr>\n",
       "      <th>1667</th>\n",
       "      <td>174073</td>\n",
       "      <td>Message-ID: &lt;20573963.1075846167160.JavaMail.e...</td>\n",
       "      <td>7</td>\n",
       "      <td>---------------------- Forwarded by Steven J K...</td>\n",
       "    </tr>\n",
       "    <tr>\n",
       "      <th>1668</th>\n",
       "      <td>174152</td>\n",
       "      <td>Message-ID: &lt;9635113.1075846169558.JavaMail.ev...</td>\n",
       "      <td>7</td>\n",
       "      <td>---------------------- Forwarded by Steven J K...</td>\n",
       "    </tr>\n",
       "    <tr>\n",
       "      <th>1669</th>\n",
       "      <td>174160</td>\n",
       "      <td>Message-ID: &lt;17981764.1075846169857.JavaMail.e...</td>\n",
       "      <td>7</td>\n",
       "      <td>---------------------- Forwarded by Steven J K...</td>\n",
       "    </tr>\n",
       "    <tr>\n",
       "      <th>1670</th>\n",
       "      <td>174185</td>\n",
       "      <td>Message-ID: &lt;26673074.1075846170570.JavaMail.e...</td>\n",
       "      <td>7</td>\n",
       "      <td>Skilling</td>\n",
       "    </tr>\n",
       "    <tr>\n",
       "      <th>1671</th>\n",
       "      <td>174205</td>\n",
       "      <td>Message-ID: &lt;2344005.1075846171108.JavaMail.ev...</td>\n",
       "      <td>7</td>\n",
       "      <td>---------------------- Forwarded by Steven J K...</td>\n",
       "    </tr>\n",
       "    <tr>\n",
       "      <th>1672</th>\n",
       "      <td>174403</td>\n",
       "      <td>Message-ID: &lt;2729188.1075846177144.JavaMail.ev...</td>\n",
       "      <td>7</td>\n",
       "      <td>FYI ----- Forwarded by Steven J Kean/NA/Enron ...</td>\n",
       "    </tr>\n",
       "    <tr>\n",
       "      <th>1673</th>\n",
       "      <td>175625</td>\n",
       "      <td>Message-ID: &lt;11509554.1075847616234.JavaMail.e...</td>\n",
       "      <td>7</td>\n",
       "      <td>fyi ----- Forwarded by Steven J Kean/NA/Enron ...</td>\n",
       "    </tr>\n",
       "    <tr>\n",
       "      <th>1674</th>\n",
       "      <td>176668</td>\n",
       "      <td>Message-ID: &lt;2871139.1075849874873.JavaMail.ev...</td>\n",
       "      <td>7</td>\n",
       "      <td>Here it is</td>\n",
       "    </tr>\n",
       "    <tr>\n",
       "      <th>1675</th>\n",
       "      <td>176674</td>\n",
       "      <td>Message-ID: &lt;3252672.1075849875034.JavaMail.ev...</td>\n",
       "      <td>7</td>\n",
       "      <td>---------------------- Forwarded by Steven J K...</td>\n",
       "    </tr>\n",
       "    <tr>\n",
       "      <th>1676</th>\n",
       "      <td>176726</td>\n",
       "      <td>Message-ID: &lt;20481791.1075863635945.JavaMail.e...</td>\n",
       "      <td>7</td>\n",
       "      <td>for meeting file ---------------------- Forwar...</td>\n",
       "    </tr>\n",
       "    <tr>\n",
       "      <th>1677</th>\n",
       "      <td>177803</td>\n",
       "      <td>Message-ID: &lt;27065550.1075858882700.JavaMail.e...</td>\n",
       "      <td>7</td>\n",
       "      <td>calendar and meeting file --------------------...</td>\n",
       "    </tr>\n",
       "    <tr>\n",
       "      <th>1678</th>\n",
       "      <td>20432</td>\n",
       "      <td>Message-ID: &lt;30867749.1075862194354.JavaMail.e...</td>\n",
       "      <td>7</td>\n",
       "      <td>Here it is</td>\n",
       "    </tr>\n",
       "    <tr>\n",
       "      <th>1679</th>\n",
       "      <td>215229</td>\n",
       "      <td>Message-ID: &lt;23655213.1075859131014.JavaMail.e...</td>\n",
       "      <td>7</td>\n",
       "      <td>-----Original Message----- From: Garrity, Vick...</td>\n",
       "    </tr>\n",
       "    <tr>\n",
       "      <th>1680</th>\n",
       "      <td>215230</td>\n",
       "      <td>Message-ID: &lt;20260254.1075859131036.JavaMail.e...</td>\n",
       "      <td>7</td>\n",
       "      <td>-----Original Message----- From: Garrity, Vick...</td>\n",
       "    </tr>\n",
       "    <tr>\n",
       "      <th>1681</th>\n",
       "      <td>227733</td>\n",
       "      <td>Message-ID: &lt;31927023.1075853082806.JavaMail.e...</td>\n",
       "      <td>7</td>\n",
       "      <td>Please review the attachment and let me know i...</td>\n",
       "    </tr>\n",
       "    <tr>\n",
       "      <th>1682</th>\n",
       "      <td>232323</td>\n",
       "      <td>Message-ID: &lt;11026633.1075853182843.JavaMail.e...</td>\n",
       "      <td>7</td>\n",
       "      <td>----- Forwarded by Richard B Sanders/HOU/ECT o...</td>\n",
       "    </tr>\n",
       "    <tr>\n",
       "      <th>1683</th>\n",
       "      <td>54845</td>\n",
       "      <td>Message-ID: &lt;9865211.1075863435418.JavaMail.ev...</td>\n",
       "      <td>7</td>\n",
       "      <td>http://www.stanford.edu/~wolak/</td>\n",
       "    </tr>\n",
       "    <tr>\n",
       "      <th>1684</th>\n",
       "      <td>125772</td>\n",
       "      <td>Message-ID: &lt;29608191.1075843695188.JavaMail.e...</td>\n",
       "      <td>8</td>\n",
       "      <td>San Jose Mercury News, April 19, 2001, Thursda...</td>\n",
       "    </tr>\n",
       "    <tr>\n",
       "      <th>1685</th>\n",
       "      <td>173177</td>\n",
       "      <td>Message-ID: &lt;21439951.1075846141063.JavaMail.e...</td>\n",
       "      <td>8</td>\n",
       "      <td>ELCON commercial practices group[</td>\n",
       "    </tr>\n",
       "    <tr>\n",
       "      <th>1686</th>\n",
       "      <td>173252</td>\n",
       "      <td>Message-ID: &lt;3490571.1075846143093.JavaMail.ev...</td>\n",
       "      <td>8</td>\n",
       "      <td>fyi ---------------------- Forwarded by Steven...</td>\n",
       "    </tr>\n",
       "    <tr>\n",
       "      <th>1687</th>\n",
       "      <td>173906</td>\n",
       "      <td>Message-ID: &lt;9010457.1075846162165.JavaMail.ev...</td>\n",
       "      <td>8</td>\n",
       "      <td>---------------------- Forwarded by Steven J K...</td>\n",
       "    </tr>\n",
       "    <tr>\n",
       "      <th>1688</th>\n",
       "      <td>174124</td>\n",
       "      <td>Message-ID: &lt;22220941.1075846168749.JavaMail.e...</td>\n",
       "      <td>8</td>\n",
       "      <td>---------------------- Forwarded by Steven J K...</td>\n",
       "    </tr>\n",
       "    <tr>\n",
       "      <th>1689</th>\n",
       "      <td>174465</td>\n",
       "      <td>Message-ID: &lt;32173095.1075846179551.JavaMail.e...</td>\n",
       "      <td>8</td>\n",
       "      <td>----- Forwarded by Steven J Kean/NA/Enron on 1...</td>\n",
       "    </tr>\n",
       "    <tr>\n",
       "      <th>1690</th>\n",
       "      <td>174511</td>\n",
       "      <td>Message-ID: &lt;5421273.1075846181935.JavaMail.ev...</td>\n",
       "      <td>8</td>\n",
       "      <td>----- Forwarded by Steven J Kean/NA/Enron on 1...</td>\n",
       "    </tr>\n",
       "    <tr>\n",
       "      <th>1691</th>\n",
       "      <td>175448</td>\n",
       "      <td>Message-ID: &lt;18686957.1075847598576.JavaMail.e...</td>\n",
       "      <td>8</td>\n",
       "      <td>---------------------- Forwarded by Steven J K...</td>\n",
       "    </tr>\n",
       "    <tr>\n",
       "      <th>1692</th>\n",
       "      <td>175814</td>\n",
       "      <td>Message-ID: &lt;3959000.1075847624851.JavaMail.ev...</td>\n",
       "      <td>8</td>\n",
       "      <td>----- Forwarded by Steven J Kean/NA/Enron on 0...</td>\n",
       "    </tr>\n",
       "    <tr>\n",
       "      <th>1693</th>\n",
       "      <td>175816</td>\n",
       "      <td>Message-ID: &lt;15050098.1075847624899.JavaMail.e...</td>\n",
       "      <td>8</td>\n",
       "      <td>test ----- Forwarded by Steven J Kean/NA/Enron...</td>\n",
       "    </tr>\n",
       "    <tr>\n",
       "      <th>1694</th>\n",
       "      <td>175841</td>\n",
       "      <td>Message-ID: &lt;29023172.1075847627587.JavaMail.e...</td>\n",
       "      <td>8</td>\n",
       "      <td>----- Forwarded by Steven J Kean/NA/Enron on 0...</td>\n",
       "    </tr>\n",
       "    <tr>\n",
       "      <th>1695</th>\n",
       "      <td>176581</td>\n",
       "      <td>Message-ID: &lt;571490.1075849870329.JavaMail.eva...</td>\n",
       "      <td>8</td>\n",
       "      <td>---------------------- Forwarded by Steven J K...</td>\n",
       "    </tr>\n",
       "    <tr>\n",
       "      <th>1696</th>\n",
       "      <td>176624</td>\n",
       "      <td>Message-ID: &lt;518090.1075849871736.JavaMail.eva...</td>\n",
       "      <td>8</td>\n",
       "      <td>testing</td>\n",
       "    </tr>\n",
       "    <tr>\n",
       "      <th>1697</th>\n",
       "      <td>176657</td>\n",
       "      <td>Message-ID: &lt;31804067.1075849874410.JavaMail.e...</td>\n",
       "      <td>8</td>\n",
       "      <td>, Palmer</td>\n",
       "    </tr>\n",
       "    <tr>\n",
       "      <th>1698</th>\n",
       "      <td>176744</td>\n",
       "      <td>Message-ID: &lt;6453004.1075846234689.JavaMail.ev...</td>\n",
       "      <td>8</td>\n",
       "      <td>test</td>\n",
       "    </tr>\n",
       "    <tr>\n",
       "      <th>1699</th>\n",
       "      <td>177851</td>\n",
       "      <td>Message-ID: &lt;14103554.1075858884564.JavaMail.e...</td>\n",
       "      <td>8</td>\n",
       "      <td>testing</td>\n",
       "    </tr>\n",
       "    <tr>\n",
       "      <th>1700</th>\n",
       "      <td>232322</td>\n",
       "      <td>Message-ID: &lt;4760206.1075853182821.JavaMail.ev...</td>\n",
       "      <td>8</td>\n",
       "      <td>----- Forwarded by Richard B Sanders/HOU/ECT o...</td>\n",
       "    </tr>\n",
       "    <tr>\n",
       "      <th>1701</th>\n",
       "      <td>234267</td>\n",
       "      <td>Message-ID: &lt;4232844.1075860516484.JavaMail.ev...</td>\n",
       "      <td>8</td>\n",
       "      <td>---------------------- Forwarded by Mary Hain/...</td>\n",
       "    </tr>\n",
       "  </tbody>\n",
       "</table>\n",
       "</div>"
      ],
      "text/plain": [
       "      file_id                                            content  class_tag  \\\n",
       "1663   115905  Message-ID: <8217324.1075842988636.JavaMail.ev...          7   \n",
       "1664   136233  Message-ID: <33384725.1075851974194.JavaMail.e...          7   \n",
       "1665   136394  Message-ID: <16579878.1075858707789.JavaMail.e...          7   \n",
       "1666   173901  Message-ID: <20902759.1075846162054.JavaMail.e...          7   \n",
       "1667   174073  Message-ID: <20573963.1075846167160.JavaMail.e...          7   \n",
       "1668   174152  Message-ID: <9635113.1075846169558.JavaMail.ev...          7   \n",
       "1669   174160  Message-ID: <17981764.1075846169857.JavaMail.e...          7   \n",
       "1670   174185  Message-ID: <26673074.1075846170570.JavaMail.e...          7   \n",
       "1671   174205  Message-ID: <2344005.1075846171108.JavaMail.ev...          7   \n",
       "1672   174403  Message-ID: <2729188.1075846177144.JavaMail.ev...          7   \n",
       "1673   175625  Message-ID: <11509554.1075847616234.JavaMail.e...          7   \n",
       "1674   176668  Message-ID: <2871139.1075849874873.JavaMail.ev...          7   \n",
       "1675   176674  Message-ID: <3252672.1075849875034.JavaMail.ev...          7   \n",
       "1676   176726  Message-ID: <20481791.1075863635945.JavaMail.e...          7   \n",
       "1677   177803  Message-ID: <27065550.1075858882700.JavaMail.e...          7   \n",
       "1678    20432  Message-ID: <30867749.1075862194354.JavaMail.e...          7   \n",
       "1679   215229  Message-ID: <23655213.1075859131014.JavaMail.e...          7   \n",
       "1680   215230  Message-ID: <20260254.1075859131036.JavaMail.e...          7   \n",
       "1681   227733  Message-ID: <31927023.1075853082806.JavaMail.e...          7   \n",
       "1682   232323  Message-ID: <11026633.1075853182843.JavaMail.e...          7   \n",
       "1683    54845  Message-ID: <9865211.1075863435418.JavaMail.ev...          7   \n",
       "1684   125772  Message-ID: <29608191.1075843695188.JavaMail.e...          8   \n",
       "1685   173177  Message-ID: <21439951.1075846141063.JavaMail.e...          8   \n",
       "1686   173252  Message-ID: <3490571.1075846143093.JavaMail.ev...          8   \n",
       "1687   173906  Message-ID: <9010457.1075846162165.JavaMail.ev...          8   \n",
       "1688   174124  Message-ID: <22220941.1075846168749.JavaMail.e...          8   \n",
       "1689   174465  Message-ID: <32173095.1075846179551.JavaMail.e...          8   \n",
       "1690   174511  Message-ID: <5421273.1075846181935.JavaMail.ev...          8   \n",
       "1691   175448  Message-ID: <18686957.1075847598576.JavaMail.e...          8   \n",
       "1692   175814  Message-ID: <3959000.1075847624851.JavaMail.ev...          8   \n",
       "1693   175816  Message-ID: <15050098.1075847624899.JavaMail.e...          8   \n",
       "1694   175841  Message-ID: <29023172.1075847627587.JavaMail.e...          8   \n",
       "1695   176581  Message-ID: <571490.1075849870329.JavaMail.eva...          8   \n",
       "1696   176624  Message-ID: <518090.1075849871736.JavaMail.eva...          8   \n",
       "1697   176657  Message-ID: <31804067.1075849874410.JavaMail.e...          8   \n",
       "1698   176744  Message-ID: <6453004.1075846234689.JavaMail.ev...          8   \n",
       "1699   177851  Message-ID: <14103554.1075858884564.JavaMail.e...          8   \n",
       "1700   232322  Message-ID: <4760206.1075853182821.JavaMail.ev...          8   \n",
       "1701   234267  Message-ID: <4232844.1075860516484.JavaMail.ev...          8   \n",
       "\n",
       "                                             email_text  \n",
       "1663  Thanks..... what's a BEEP? Jeff Dasovich Sent ...  \n",
       "1664  ---------------------- Forwarded by Steven J K...  \n",
       "1665  -----Original Message----- From: Black, Andy [...  \n",
       "1666  calendar ---------------------- Forwarded by S...  \n",
       "1667  ---------------------- Forwarded by Steven J K...  \n",
       "1668  ---------------------- Forwarded by Steven J K...  \n",
       "1669  ---------------------- Forwarded by Steven J K...  \n",
       "1670                                           Skilling  \n",
       "1671  ---------------------- Forwarded by Steven J K...  \n",
       "1672  FYI ----- Forwarded by Steven J Kean/NA/Enron ...  \n",
       "1673  fyi ----- Forwarded by Steven J Kean/NA/Enron ...  \n",
       "1674                                         Here it is  \n",
       "1675  ---------------------- Forwarded by Steven J K...  \n",
       "1676  for meeting file ---------------------- Forwar...  \n",
       "1677  calendar and meeting file --------------------...  \n",
       "1678                                         Here it is  \n",
       "1679  -----Original Message----- From: Garrity, Vick...  \n",
       "1680  -----Original Message----- From: Garrity, Vick...  \n",
       "1681  Please review the attachment and let me know i...  \n",
       "1682  ----- Forwarded by Richard B Sanders/HOU/ECT o...  \n",
       "1683                    http://www.stanford.edu/~wolak/  \n",
       "1684  San Jose Mercury News, April 19, 2001, Thursda...  \n",
       "1685                  ELCON commercial practices group[  \n",
       "1686  fyi ---------------------- Forwarded by Steven...  \n",
       "1687  ---------------------- Forwarded by Steven J K...  \n",
       "1688  ---------------------- Forwarded by Steven J K...  \n",
       "1689  ----- Forwarded by Steven J Kean/NA/Enron on 1...  \n",
       "1690  ----- Forwarded by Steven J Kean/NA/Enron on 1...  \n",
       "1691  ---------------------- Forwarded by Steven J K...  \n",
       "1692  ----- Forwarded by Steven J Kean/NA/Enron on 0...  \n",
       "1693  test ----- Forwarded by Steven J Kean/NA/Enron...  \n",
       "1694  ----- Forwarded by Steven J Kean/NA/Enron on 0...  \n",
       "1695  ---------------------- Forwarded by Steven J K...  \n",
       "1696                                            testing  \n",
       "1697                                           , Palmer  \n",
       "1698                                               test  \n",
       "1699                                            testing  \n",
       "1700  ----- Forwarded by Richard B Sanders/HOU/ECT o...  \n",
       "1701  ---------------------- Forwarded by Mary Hain/...  "
      ]
     },
     "execution_count": 96,
     "metadata": {},
     "output_type": "execute_result"
    }
   ],
   "source": [
    "final_dataframe.query(\"class_tag == 7 or class_tag == 8\").index"
   ]
  },
  {
   "cell_type": "code",
   "execution_count": 93,
   "metadata": {},
   "outputs": [
    {
     "data": {
      "text/plain": [
       "[1, 2, 3, 4, 5, 6, 7, 8]"
      ]
     },
     "execution_count": 93,
     "metadata": {},
     "output_type": "execute_result"
    }
   ],
   "source": [
    "sorted(final_dataframe['class_tag'].unique().tolist())"
   ]
  },
  {
   "cell_type": "code",
   "execution_count": null,
   "metadata": {},
   "outputs": [],
   "source": [
    "final_dataframe.iloc[1698,:].content"
   ]
  },
  {
   "cell_type": "code",
   "execution_count": null,
   "metadata": {},
   "outputs": [],
   "source": [
    "final_dataframe.iloc[1701,:].email_text"
   ]
  },
  {
   "cell_type": "code",
   "execution_count": 24,
   "metadata": {},
   "outputs": [
    {
     "data": {
      "text/plain": [
       "855"
      ]
     },
     "execution_count": 24,
     "metadata": {},
     "output_type": "execute_result"
    }
   ],
   "source": [
    "(final_dataframe[\"class_tag\"]==1).sum()"
   ]
  },
  {
   "cell_type": "code",
   "execution_count": 12,
   "metadata": {},
   "outputs": [],
   "source": [
    "import torch\n",
    "k =torch.nn.functional.one_hot(torch.tensor([0,2,3,4,5,5,2,3]))"
   ]
  },
  {
   "cell_type": "code",
   "execution_count": 13,
   "metadata": {},
   "outputs": [
    {
     "data": {
      "text/plain": [
       "tensor([[1, 0, 0, 0, 0, 0],\n",
       "        [0, 0, 1, 0, 0, 0],\n",
       "        [0, 0, 0, 1, 0, 0],\n",
       "        [0, 0, 0, 0, 1, 0],\n",
       "        [0, 0, 0, 0, 0, 1],\n",
       "        [0, 0, 0, 0, 0, 1],\n",
       "        [0, 0, 1, 0, 0, 0],\n",
       "        [0, 0, 0, 1, 0, 0]])"
      ]
     },
     "execution_count": 13,
     "metadata": {},
     "output_type": "execute_result"
    }
   ],
   "source": [
    "k"
   ]
  },
  {
   "cell_type": "code",
   "execution_count": 14,
   "metadata": {},
   "outputs": [
    {
     "data": {
      "text/plain": [
       "tensor([[1, 0, 0, 0, 0, 0],\n",
       "        [0, 0, 1, 0, 0, 0],\n",
       "        [0, 0, 0, 1, 0, 0],\n",
       "        [0, 0, 0, 0, 1, 0],\n",
       "        [0, 0, 0, 0, 0, 1],\n",
       "        [0, 0, 0, 0, 0, 1],\n",
       "        [0, 0, 1, 0, 0, 0],\n",
       "        [0, 0, 0, 1, 0, 0]])"
      ]
     },
     "execution_count": 14,
     "metadata": {},
     "output_type": "execute_result"
    }
   ],
   "source": [
    "k.view(-1,6)"
   ]
  },
  {
   "cell_type": "code",
   "execution_count": null,
   "metadata": {},
   "outputs": [],
   "source": [
    "loss = torch.nn.BCEWithLogitsLoss()\n",
    "input = torch.randn(3, requires_grad=True)\n",
    "target = torch.tensor(torch.empty(3).random_(2).clone().detach(), dtype=torch.long)\n",
    "output = loss(input, target)\n",
    "output.backward()"
   ]
  },
  {
   "cell_type": "code",
   "execution_count": 16,
   "metadata": {},
   "outputs": [],
   "source": [
    "target = torch.empty(3, dtype=torch.long).random_(5)"
   ]
  },
  {
   "cell_type": "code",
   "execution_count": 20,
   "metadata": {},
   "outputs": [
    {
     "data": {
      "text/plain": [
       "torch.Size([3, 1])"
      ]
     },
     "execution_count": 20,
     "metadata": {},
     "output_type": "execute_result"
    }
   ],
   "source": [
    "target.view(-1,1).shape"
   ]
  },
  {
   "cell_type": "code",
   "execution_count": 71,
   "metadata": {},
   "outputs": [],
   "source": [
    "target = torch.rand(5,10)"
   ]
  },
  {
   "cell_type": "code",
   "execution_count": 72,
   "metadata": {},
   "outputs": [
    {
     "data": {
      "text/plain": [
       "tensor([[0.5367, 0.4905, 0.3552, 0.5675, 0.6493, 0.5060, 0.2219, 0.7913, 0.9729,\n",
       "         0.7905],\n",
       "        [0.7062, 0.0595, 0.9263, 0.2349, 0.7833, 0.6960, 0.7441, 0.2711, 0.6872,\n",
       "         0.4699],\n",
       "        [0.5551, 0.8381, 0.5039, 0.2903, 0.1799, 0.0733, 0.7265, 0.7716, 0.7929,\n",
       "         0.6343],\n",
       "        [0.0407, 0.3591, 0.1760, 0.1982, 0.1187, 0.8287, 0.3591, 0.1712, 0.4905,\n",
       "         0.0653],\n",
       "        [0.9182, 0.0753, 0.7089, 0.6567, 0.6618, 0.4758, 0.1229, 0.9878, 0.7551,\n",
       "         0.6623]])"
      ]
     },
     "execution_count": 72,
     "metadata": {},
     "output_type": "execute_result"
    }
   ],
   "source": [
    "target"
   ]
  },
  {
   "cell_type": "code",
   "execution_count": 73,
   "metadata": {},
   "outputs": [],
   "source": [
    "target = target.max(1)[1]"
   ]
  },
  {
   "cell_type": "code",
   "execution_count": 82,
   "metadata": {},
   "outputs": [
    {
     "data": {
      "text/plain": [
       "torch.Size([5, 1])"
      ]
     },
     "execution_count": 82,
     "metadata": {},
     "output_type": "execute_result"
    }
   ],
   "source": [
    "target.view(-1,1).shape"
   ]
  },
  {
   "cell_type": "code",
   "execution_count": 75,
   "metadata": {},
   "outputs": [
    {
     "name": "stderr",
     "output_type": "stream",
     "text": [
      "<ipython-input-75-76cc4e03ead9>:1: UserWarning: To copy construct from a tensor, it is recommended to use sourceTensor.clone().detach() or sourceTensor.clone().detach().requires_grad_(True), rather than torch.tensor(sourceTensor).\n",
      "  y_true = torch.tensor(torch.empty(5).random_(10)).view_as(target)\n"
     ]
    }
   ],
   "source": [
    "y_true = torch.tensor(torch.empty(5).random_(10)).view_as(target)"
   ]
  },
  {
   "cell_type": "code",
   "execution_count": 76,
   "metadata": {},
   "outputs": [
    {
     "data": {
      "text/plain": [
       "[9.0, 5.0, 3.0, 5.0, 2.0]"
      ]
     },
     "execution_count": 76,
     "metadata": {},
     "output_type": "execute_result"
    }
   ],
   "source": [
    "y_true.detach().numpy().tolist()"
   ]
  },
  {
   "cell_type": "code",
   "execution_count": 78,
   "metadata": {},
   "outputs": [
    {
     "data": {
      "text/plain": [
       "[9.0, 5.0, 3.0, 5.0, 2.0]"
      ]
     },
     "execution_count": 78,
     "metadata": {},
     "output_type": "execute_result"
    }
   ],
   "source": [
    "k = []\n",
    "k.extend(y_true.detach().numpy().tolist())\n",
    "k"
   ]
  },
  {
   "cell_type": "code",
   "execution_count": 15,
   "metadata": {},
   "outputs": [
    {
     "name": "stdout",
     "output_type": "stream",
     "text": [
      "Downloading http://yann.lecun.com/exdb/mnist/train-images-idx3-ubyte.gz\n",
      "Downloading http://yann.lecun.com/exdb/mnist/train-images-idx3-ubyte.gz to data\\MNIST\\raw\\train-images-idx3-ubyte.gz\n"
     ]
    },
    {
     "data": {
      "application/vnd.jupyter.widget-view+json": {
       "model_id": "f93027823a1c4610a724e3bb46a8ff85",
       "version_major": 2,
       "version_minor": 0
      },
      "text/plain": [
       "HBox(children=(HTML(value=''), FloatProgress(value=0.0, max=9912422.0), HTML(value='')))"
      ]
     },
     "metadata": {},
     "output_type": "display_data"
    },
    {
     "name": "stdout",
     "output_type": "stream",
     "text": [
      "\n",
      "Extracting data\\MNIST\\raw\\train-images-idx3-ubyte.gz to data\\MNIST\\raw\n",
      "\n",
      "Downloading http://yann.lecun.com/exdb/mnist/train-labels-idx1-ubyte.gz\n",
      "Downloading http://yann.lecun.com/exdb/mnist/train-labels-idx1-ubyte.gz to data\\MNIST\\raw\\train-labels-idx1-ubyte.gz\n"
     ]
    },
    {
     "data": {
      "application/vnd.jupyter.widget-view+json": {
       "model_id": "e2b348e1a1e445178a9323934c2c5f05",
       "version_major": 2,
       "version_minor": 0
      },
      "text/plain": [
       "HBox(children=(HTML(value=''), FloatProgress(value=0.0, max=28881.0), HTML(value='')))"
      ]
     },
     "metadata": {},
     "output_type": "display_data"
    },
    {
     "name": "stdout",
     "output_type": "stream",
     "text": [
      "\n",
      "Extracting data\\MNIST\\raw\\train-labels-idx1-ubyte.gz to data\\MNIST\\raw\n",
      "\n",
      "Downloading http://yann.lecun.com/exdb/mnist/t10k-images-idx3-ubyte.gz\n",
      "Downloading http://yann.lecun.com/exdb/mnist/t10k-images-idx3-ubyte.gz to data\\MNIST\\raw\\t10k-images-idx3-ubyte.gz\n"
     ]
    },
    {
     "data": {
      "application/vnd.jupyter.widget-view+json": {
       "model_id": "53ce371470a44a178a5df8aebc0d9cca",
       "version_major": 2,
       "version_minor": 0
      },
      "text/plain": [
       "HBox(children=(HTML(value=''), FloatProgress(value=0.0, max=1648877.0), HTML(value='')))"
      ]
     },
     "metadata": {},
     "output_type": "display_data"
    },
    {
     "name": "stdout",
     "output_type": "stream",
     "text": [
      "\n",
      "Extracting data\\MNIST\\raw\\t10k-images-idx3-ubyte.gz to data\\MNIST\\raw\n",
      "\n",
      "Downloading http://yann.lecun.com/exdb/mnist/t10k-labels-idx1-ubyte.gz\n",
      "Downloading http://yann.lecun.com/exdb/mnist/t10k-labels-idx1-ubyte.gz to data\\MNIST\\raw\\t10k-labels-idx1-ubyte.gz\n"
     ]
    },
    {
     "data": {
      "application/vnd.jupyter.widget-view+json": {
       "model_id": "04a78a3824ad454fbd425ff4b6b80c65",
       "version_major": 2,
       "version_minor": 0
      },
      "text/plain": [
       "HBox(children=(HTML(value=''), FloatProgress(value=0.0, max=4542.0), HTML(value='')))"
      ]
     },
     "metadata": {},
     "output_type": "display_data"
    },
    {
     "name": "stdout",
     "output_type": "stream",
     "text": [
      "\n",
      "Extracting data\\MNIST\\raw\\t10k-labels-idx1-ubyte.gz to data\\MNIST\\raw\n",
      "\n"
     ]
    },
    {
     "name": "stderr",
     "output_type": "stream",
     "text": [
      "C:\\Users\\navne\\anaconda3\\lib\\site-packages\\torchvision\\datasets\\mnist.py:498: UserWarning: The given NumPy array is not writeable, and PyTorch does not support non-writeable tensors. This means you can write to the underlying (supposedly non-writeable) NumPy array using the tensor. You may want to copy the array to protect its data or make it writeable before converting it to a tensor. This type of warning will be suppressed for the rest of this program. (Triggered internally at  ..\\torch\\csrc\\utils\\tensor_numpy.cpp:180.)\n",
      "  return torch.from_numpy(parsed.astype(m[2], copy=False)).view(*s)\n"
     ]
    },
    {
     "name": "stdout",
     "output_type": "stream",
     "text": [
      "(<PIL.Image.Image image mode=L size=28x28 at 0x1C488FFB5B0>, 5)\n"
     ]
    }
   ],
   "source": [
    "from torchvision import datasets\n",
    "# load the training data\n",
    "mnist_train = datasets.MNIST('data', train=True, download=True)\n",
    "mnist_train = list(mnist_train)[:2500]\n",
    "print(mnist_train[0])"
   ]
  },
  {
   "cell_type": "code",
   "execution_count": null,
   "metadata": {},
   "outputs": [],
   "source": []
  }
 ],
 "metadata": {
  "kernelspec": {
   "display_name": "Python 3",
   "language": "python",
   "name": "python3"
  },
  "language_info": {
   "codemirror_mode": {
    "name": "ipython",
    "version": 3
   },
   "file_extension": ".py",
   "mimetype": "text/x-python",
   "name": "python",
   "nbconvert_exporter": "python",
   "pygments_lexer": "ipython3",
   "version": "3.8.5"
  }
 },
 "nbformat": 4,
 "nbformat_minor": 4
}
